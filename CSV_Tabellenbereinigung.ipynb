{
  "nbformat": 4,
  "nbformat_minor": 0,
  "metadata": {
    "colab": {
      "provenance": [],
      "authorship_tag": "ABX9TyOvK40BYjalS1xF41ldm5P0",
      "include_colab_link": true
    },
    "kernelspec": {
      "name": "python3",
      "display_name": "Python 3"
    },
    "language_info": {
      "name": "python"
    }
  },
  "cells": [
    {
      "cell_type": "markdown",
      "metadata": {
        "id": "view-in-github",
        "colab_type": "text"
      },
      "source": [
        "<a href=\"https://colab.research.google.com/github/Sarah-0405/Bachelorarbeit_/blob/main/CSV_Tabellenbereinigung.ipynb\" target=\"_parent\"><img src=\"https://colab.research.google.com/assets/colab-badge.svg\" alt=\"Open In Colab\"/></a>"
      ]
    },
    {
      "cell_type": "code",
      "source": [
        "from google.colab import drive\n",
        "drive.mount('/content/drive')\n"
      ],
      "metadata": {
        "colab": {
          "base_uri": "https://localhost:8080/"
        },
        "id": "qBsWe3IAeqfc",
        "outputId": "08dce7c7-1b9f-440b-e71a-c46fcb77950a"
      },
      "execution_count": null,
      "outputs": [
        {
          "output_type": "stream",
          "name": "stdout",
          "text": [
            "Mounted at /content/drive\n"
          ]
        }
      ]
    },
    {
      "cell_type": "code",
      "source": [
        "import pandas as pd\n",
        "import geopandas as gpd\n",
        "from shapely.geometry import Point\n",
        "import numpy as np\n"
      ],
      "metadata": {
        "id": "uc229VOVzTwx"
      },
      "execution_count": null,
      "outputs": []
    },
    {
      "cell_type": "code",
      "execution_count": null,
      "metadata": {
        "id": "LDux0ZyCefMk"
      },
      "outputs": [],
      "source": [
        "# CSV-Datei laden\n",
        "df = pd.read_csv(\"/content/drive/MyDrive/Daten BA /erstellte Dateien mit colab/NOERDLINGEN_neu_merged.csv\", sep=\";\")\n",
        "\n",
        "# Prüfen, ob Längen- und Breitengrad vorhanden sind\n",
        "if 'x_mp_100m' in df.columns and 'y_mp_100m' in df.columns:\n",
        "    # Geopandas DataFrame erstellen\n",
        "    gdf = gpd.GeoDataFrame(\n",
        "        df,\n",
        "        geometry=gpd.points_from_xy(df['x_mp_100m'], df['y_mp_100m']),\n",
        "        crs=\"EPSG:3035\"  # Koordinatensystem\n",
        "    )\n",
        "else:\n",
        "    print(\"Koordinatenspalten fehlen in der CSV-Datei.\")\n"
      ]
    },
    {
      "cell_type": "code",
      "source": [
        "# Ersten Blick auf die Daten werfen\n",
        "print(df.head())  # Zeigt die ersten 5 Zeilen\n",
        "print(df.columns)  # Listet alle Spaltennamen\n",
        "print(df.info())  # Zeigt Informationen über Datentypen und fehlende Werte"
      ],
      "metadata": {
        "colab": {
          "base_uri": "https://localhost:8080/"
        },
        "id": "Dj6GNHxQiv2s",
        "outputId": "2d531cf8-95f1-4da3-afa8-728bb3941ea5"
      },
      "execution_count": null,
      "outputs": [
        {
          "output_type": "stream",
          "name": "stdout",
          "text": [
            "                   GITTER_ID_100m  x_mp_100m  y_mp_100m  \\\n",
            "0  CRS3035RES100mN2854400E4359000    4359050    2854450   \n",
            "1  CRS3035RES100mN2854500E4358400    4358450    2854550   \n",
            "2  CRS3035RES100mN2854500E4358700    4358750    2854550   \n",
            "3  CRS3035RES100mN2854500E4358800    4358850    2854550   \n",
            "4  CRS3035RES100mN2854500E4358900    4358950    2854550   \n",
            "\n",
            "                  geometry AnteilUeber65 AnteilAuslaender  \\\n",
            "0  POINT (4359050 2854450)             –                –   \n",
            "1  POINT (4358450 2854550)             –                –   \n",
            "2  POINT (4358750 2854550)             –                –   \n",
            "3  POINT (4358850 2854550)         13,64                –   \n",
            "4  POINT (4358950 2854550)             –                –   \n",
            "\n",
            "  durchschnFlaechejeBew Durchschnittsalter  Einwohner durchschnMieteQM  \\\n",
            "0                 65,00              37,13          3              NaN   \n",
            "1                   NaN              53,48          3              NaN   \n",
            "2                 39,04              57,78          6              NaN   \n",
            "3                 78,77              43,04         22              NaN   \n",
            "4                 48,23              36,65         20             4,75   \n",
            "\n",
            "   Insgesamt_Bevoelkerung  Unter10  Anteil_unter10  \n",
            "0                       3        0        0.000000  \n",
            "1                       3        0        0.000000  \n",
            "2                       6        0        0.000000  \n",
            "3                      22        3       13.636364  \n",
            "4                      20        0        0.000000  \n",
            "Index(['GITTER_ID_100m', 'x_mp_100m', 'y_mp_100m', 'geometry', 'AnteilUeber65',\n",
            "       'AnteilAuslaender', 'durchschnFlaechejeBew', 'Durchschnittsalter',\n",
            "       'Einwohner', 'durchschnMieteQM', 'Insgesamt_Bevoelkerung', 'Unter10',\n",
            "       'Anteil_unter10'],\n",
            "      dtype='object')\n",
            "<class 'pandas.core.frame.DataFrame'>\n",
            "RangeIndex: 797 entries, 0 to 796\n",
            "Data columns (total 13 columns):\n",
            " #   Column                  Non-Null Count  Dtype  \n",
            "---  ------                  --------------  -----  \n",
            " 0   GITTER_ID_100m          797 non-null    object \n",
            " 1   x_mp_100m               797 non-null    int64  \n",
            " 2   y_mp_100m               797 non-null    int64  \n",
            " 3   geometry                797 non-null    object \n",
            " 4   AnteilUeber65           797 non-null    object \n",
            " 5   AnteilAuslaender        797 non-null    object \n",
            " 6   durchschnFlaechejeBew   690 non-null    object \n",
            " 7   Durchschnittsalter      797 non-null    object \n",
            " 8   Einwohner               797 non-null    int64  \n",
            " 9   durchschnMieteQM        378 non-null    object \n",
            " 10  Insgesamt_Bevoelkerung  797 non-null    int64  \n",
            " 11  Unter10                 797 non-null    int64  \n",
            " 12  Anteil_unter10          797 non-null    float64\n",
            "dtypes: float64(1), int64(5), object(7)\n",
            "memory usage: 81.1+ KB\n",
            "None\n"
          ]
        }
      ]
    },
    {
      "cell_type": "code",
      "source": [
        "# Replace commas with periods in specific columns containing numeric values\n",
        "for column in ['AnteilUeber65', 'AnteilAuslaender', 'durchschnFlaechejeBew', 'Durchschnittsalter', 'durchschnMieteQM', 'Anteil_unter10']:\n",
        "    # Replace '–' with NaN before converting to float\n",
        "    df[column] = df[column].astype(str).str.replace(',', '.').str.replace('–', 'NaN').astype(float) # Replace '–' with NaN"
      ],
      "metadata": {
        "id": "-C2GpZcfxEY9"
      },
      "execution_count": null,
      "outputs": []
    },
    {
      "cell_type": "code",
      "source": [
        "for columns in [\"Einwohner\", \"Insgesamt_Bevoelkerung\", \"Unter10\"]:\n",
        "  df[columns] = df[columns].astype(int)"
      ],
      "metadata": {
        "id": "iiRp_F0oPudl"
      },
      "execution_count": null,
      "outputs": []
    },
    {
      "cell_type": "code",
      "source": [
        "print(df.info())"
      ],
      "metadata": {
        "colab": {
          "base_uri": "https://localhost:8080/"
        },
        "id": "rp65gf2Kxe0Q",
        "outputId": "dce62f1a-50e2-454f-c818-f1407b867569"
      },
      "execution_count": null,
      "outputs": [
        {
          "output_type": "stream",
          "name": "stdout",
          "text": [
            "<class 'pandas.core.frame.DataFrame'>\n",
            "RangeIndex: 797 entries, 0 to 796\n",
            "Data columns (total 13 columns):\n",
            " #   Column                  Non-Null Count  Dtype  \n",
            "---  ------                  --------------  -----  \n",
            " 0   GITTER_ID_100m          797 non-null    object \n",
            " 1   x_mp_100m               797 non-null    int64  \n",
            " 2   y_mp_100m               797 non-null    int64  \n",
            " 3   geometry                797 non-null    object \n",
            " 4   AnteilUeber65           528 non-null    float64\n",
            " 5   AnteilAuslaender        284 non-null    float64\n",
            " 6   durchschnFlaechejeBew   690 non-null    float64\n",
            " 7   Durchschnittsalter      797 non-null    float64\n",
            " 8   Einwohner               797 non-null    int64  \n",
            " 9   durchschnMieteQM        378 non-null    float64\n",
            " 10  Insgesamt_Bevoelkerung  797 non-null    int64  \n",
            " 11  Unter10                 797 non-null    int64  \n",
            " 12  Anteil_unter10          797 non-null    float64\n",
            "dtypes: float64(6), int64(5), object(2)\n",
            "memory usage: 81.1+ KB\n",
            "None\n"
          ]
        }
      ]
    },
    {
      "cell_type": "code",
      "source": [
        "# Prüfen, ob Werte in der Spalte vorhanden sind\n",
        "print(df.describe())  # Statistiken anzeigen"
      ],
      "metadata": {
        "colab": {
          "base_uri": "https://localhost:8080/"
        },
        "id": "Xn7k0GSIxw3o",
        "outputId": "50960aaf-633d-474f-d9d9-963b1fdbefc1"
      },
      "execution_count": null,
      "outputs": [
        {
          "output_type": "stream",
          "name": "stdout",
          "text": [
            "          x_mp_100m     y_mp_100m  AnteilUeber65  AnteilAuslaender  \\\n",
            "count  7.970000e+02  7.970000e+02     528.000000        284.000000   \n",
            "mean   4.357734e+06  2.859886e+06      32.542405         24.662535   \n",
            "std    2.100850e+03  2.239705e+03      20.886809         19.722777   \n",
            "min    4.353150e+06  2.854450e+06       3.450000          3.920000   \n",
            "25%    4.356350e+06  2.858750e+06      18.817500         11.360000   \n",
            "50%    4.357250e+06  2.859650e+06      27.270000         17.835000   \n",
            "75%    4.358650e+06  2.860850e+06      38.950000         30.385000   \n",
            "max    4.362850e+06  2.866450e+06     100.000000        100.000000   \n",
            "\n",
            "       durchschnFlaechejeBew  Durchschnittsalter   Einwohner  \\\n",
            "count             690.000000          797.000000  797.000000   \n",
            "mean               65.905420           45.545458   25.331242   \n",
            "std                17.785521           10.842873   23.867109   \n",
            "min                24.440000           14.860000    3.000000   \n",
            "25%                54.962500           38.970000    9.000000   \n",
            "50%                64.420000           44.430000   18.000000   \n",
            "75%                74.252500           51.340000   33.000000   \n",
            "max               190.020000           83.170000  144.000000   \n",
            "\n",
            "       durchschnMieteQM  Insgesamt_Bevoelkerung     Unter10  Anteil_unter10  \n",
            "count        378.000000              797.000000  797.000000      797.000000  \n",
            "mean           6.530714               25.331242    2.124216        7.498616  \n",
            "std            1.362102               23.867109    3.085609       11.230688  \n",
            "min            1.500000                3.000000    0.000000        0.000000  \n",
            "25%            5.735000                9.000000    0.000000        0.000000  \n",
            "50%            6.540000               18.000000    0.000000        0.000000  \n",
            "75%            7.175000               33.000000    3.000000       12.500000  \n",
            "max           12.310000              144.000000   25.000000       75.000000  \n"
          ]
        }
      ]
    },
    {
      "cell_type": "code",
      "source": [
        "print(df.head())\n",
        "print(df.columns)"
      ],
      "metadata": {
        "colab": {
          "base_uri": "https://localhost:8080/"
        },
        "id": "UzUXl8GERqvc",
        "outputId": "230e8ca2-f2ab-49b0-ee2b-b5dfd8e1aac5"
      },
      "execution_count": null,
      "outputs": [
        {
          "output_type": "stream",
          "name": "stdout",
          "text": [
            "                   GITTER_ID_100m  x_mp_100m  y_mp_100m  \\\n",
            "0  CRS3035RES100mN2854400E4359000    4359050    2854450   \n",
            "1  CRS3035RES100mN2854500E4358400    4358450    2854550   \n",
            "2  CRS3035RES100mN2854500E4358700    4358750    2854550   \n",
            "3  CRS3035RES100mN2854500E4358800    4358850    2854550   \n",
            "4  CRS3035RES100mN2854500E4358900    4358950    2854550   \n",
            "\n",
            "                  geometry  AnteilUeber65  AnteilAuslaender  \\\n",
            "0  POINT (4359050 2854450)            NaN               NaN   \n",
            "1  POINT (4358450 2854550)            NaN               NaN   \n",
            "2  POINT (4358750 2854550)            NaN               NaN   \n",
            "3  POINT (4358850 2854550)          13.64               NaN   \n",
            "4  POINT (4358950 2854550)            NaN               NaN   \n",
            "\n",
            "   durchschnFlaechejeBew  Durchschnittsalter  Einwohner  durchschnMieteQM  \\\n",
            "0                  65.00               37.13          3               NaN   \n",
            "1                    NaN               53.48          3               NaN   \n",
            "2                  39.04               57.78          6               NaN   \n",
            "3                  78.77               43.04         22               NaN   \n",
            "4                  48.23               36.65         20              4.75   \n",
            "\n",
            "   Insgesamt_Bevoelkerung  Unter10  Anteil_unter10  \n",
            "0                       3        0        0.000000  \n",
            "1                       3        0        0.000000  \n",
            "2                       6        0        0.000000  \n",
            "3                      22        3       13.636364  \n",
            "4                      20        0        0.000000  \n",
            "Index(['GITTER_ID_100m', 'x_mp_100m', 'y_mp_100m', 'geometry', 'AnteilUeber65',\n",
            "       'AnteilAuslaender', 'durchschnFlaechejeBew', 'Durchschnittsalter',\n",
            "       'Einwohner', 'durchschnMieteQM', 'Insgesamt_Bevoelkerung', 'Unter10',\n",
            "       'Anteil_unter10'],\n",
            "      dtype='object')\n"
          ]
        }
      ]
    },
    {
      "cell_type": "code",
      "source": [
        "print(df.isnull().sum()) # Zeige, wie viele NaN-Werte in jeder Spalte vorhanden sind"
      ],
      "metadata": {
        "colab": {
          "base_uri": "https://localhost:8080/"
        },
        "id": "v-KmV6diSHf2",
        "outputId": "74e018b9-d594-4299-ed05-aeed0bf03860"
      },
      "execution_count": null,
      "outputs": [
        {
          "output_type": "stream",
          "name": "stdout",
          "text": [
            "GITTER_ID_100m              0\n",
            "x_mp_100m                   0\n",
            "y_mp_100m                   0\n",
            "geometry                    0\n",
            "AnteilUeber65             269\n",
            "AnteilAuslaender          513\n",
            "durchschnFlaechejeBew     107\n",
            "Durchschnittsalter          0\n",
            "Einwohner                   0\n",
            "durchschnMieteQM          419\n",
            "Insgesamt_Bevoelkerung      0\n",
            "Unter10                     0\n",
            "Anteil_unter10              0\n",
            "dtype: int64\n"
          ]
        }
      ]
    },
    {
      "cell_type": "code",
      "source": [
        "# Speichern der bearbeiteten Datei unter einem neuen Namen\n",
        "df.to_csv('/content/drive/MyDrive/Daten BA /erstellte Dateien mit colab/NOERDLINGEN_neu_merged.csv', index=False)\n"
      ],
      "metadata": {
        "id": "5EsD4u2Y8jD0"
      },
      "execution_count": null,
      "outputs": []
    },
    {
      "cell_type": "markdown",
      "source": [
        "Funktion zum Verarbeiten der CSV-Dateien"
      ],
      "metadata": {
        "id": "rokRKptiAT9c"
      }
    },
    {
      "cell_type": "code",
      "source": [
        "def preprocess_csv(file_path, output_path):\n",
        "    \"\"\"\n",
        "    Diese Funktion liest eine CSV-Datei, ersetzt Kommas durch Punkte\n",
        "    und wandelt bestimmte Spalten in die Datentypen float64 oder int um.\n",
        "    Die Spalten 'Gitter_ID_100m' und 'geometry' bleiben unverändert.\n",
        "\n",
        "    :param file_path: Der Pfad zur CSV-Datei, die umgewandelt werden soll.\n",
        "    :param output_path: Der Pfad, unter dem die bearbeitete Datei gespeichert werden soll.\n",
        "    \"\"\"\n",
        "    # Schritt 1: CSV-Datei einlesen\n",
        "    df = pd.read_csv(file_path, sep=\";\")\n",
        "\n",
        "    # Schritt 2: Ersetze Kommas (',') durch Punkte ('.') im gesamten DataFrame\n",
        "    df.replace(',', '.', regex=True, inplace=True)\n",
        "\n",
        "    # Schritt 3: Wandelt bestimmte Spalten in die gewünschten Datentypen um\n",
        "    float_columns = ['AnteilUeber65', 'AnteilAuslaender', 'durchschnFlaechejeBew',\n",
        "                     'Durchschnittsalter', 'durchschnMieteQM', 'Anteil_unter10']\n",
        "    int_columns = [\"Einwohner\", \"Insgesamt_Bevoelkerung\", \"Unter10\"]\n",
        "\n",
        "    for column in float_columns:\n",
        "        if column in df.columns:  # Überprüfen, ob die Spalte existiert\n",
        "            df[column] = pd.to_numeric(df[column], errors='coerce')\n",
        "\n",
        "    for column in int_columns:\n",
        "        if column in df.columns:  # Überprüfen, ob die Spalte existiert\n",
        "            df[column] = pd.to_numeric(df[column], errors='coerce').astype('Int64')  # Int64 für nullable integers\n",
        "\n",
        "    # Schritt 4: Speichern der bearbeiteten CSV-Datei\n",
        "    df.to_csv(output_path, index=False)\n",
        "\n",
        "    print(f\"Die bearbeitete Datei wurde erfolgreich gespeichert: {output_path}\")\n",
        "    return df\n",
        "\n",
        "# Beispielanwendung\n",
        "input_file = '/content/drive/MyDrive/Daten BA /erstellte Dateien mit colab/KEMPTEN_neu_merged.csv'  # Ersetze durch deinen Eingabepfad\n",
        "output_file = '/content/drive/MyDrive/Daten BA /erstellte Dateien mit colab/KEMPTEN_neu_merged_2.csv'  # Ersetze durch deinen Ausgabepfad\n",
        "\n",
        "# Funktionsaufruf zur Verarbeitung der CSV-Datei\n",
        "preprocessed_df = preprocess_csv(input_file, output_file)\n",
        "\n",
        "# Optional: Überprüfen der ersten paar Zeilen der bearbeiteten Datei\n",
        "print(preprocessed_df.head())\n"
      ],
      "metadata": {
        "colab": {
          "base_uri": "https://localhost:8080/"
        },
        "id": "dOD3bUG1AThP",
        "outputId": "d81d0e35-0556-4903-9252-4a7cec480bd3"
      },
      "execution_count": null,
      "outputs": [
        {
          "output_type": "stream",
          "name": "stdout",
          "text": [
            "Die bearbeitete Datei wurde erfolgreich gespeichert: /content/drive/MyDrive/Daten BA /erstellte Dateien mit colab/KEMPTEN_neu_merged_2.csv\n",
            "                   GITTER_ID_100m  x_mp_100m  y_mp_100m  \\\n",
            "0  CRS3035RES100mN2731600E4345000    4345050    2731650   \n",
            "1  CRS3035RES100mN2731700E4344700    4344750    2731750   \n",
            "2  CRS3035RES100mN2731800E4342000    4342050    2731850   \n",
            "3  CRS3035RES100mN2731800E4344600    4344650    2731850   \n",
            "4  CRS3035RES100mN2731800E4344700    4344750    2731850   \n",
            "\n",
            "                  geometry  AnteilUeber65  AnteilAuslaender  \\\n",
            "0  POINT (4345050 2731650)            NaN               NaN   \n",
            "1  POINT (4344750 2731750)          50.00               NaN   \n",
            "2  POINT (4342050 2731850)            NaN               NaN   \n",
            "3  POINT (4344650 2731850)          14.29               NaN   \n",
            "4  POINT (4344750 2731850)          29.73               NaN   \n",
            "\n",
            "   durchschnFlaechejeBew  Durchschnittsalter  Einwohner  durchschnMieteQM  \\\n",
            "0                    NaN               40.47          5               NaN   \n",
            "1                    NaN               65.62          8               NaN   \n",
            "2                    NaN               47.53          3               NaN   \n",
            "3                  40.65               41.19         21               NaN   \n",
            "4                  57.96               47.67         37              7.99   \n",
            "\n",
            "   Insgesamt_Bevoelkerung  Unter10  Anteil_unter10  \n",
            "0                       5        0        0.000000  \n",
            "1                       8        0        0.000000  \n",
            "2                       3        0        0.000000  \n",
            "3                      21        3       14.285714  \n",
            "4                      37        4       10.810811  \n"
          ]
        }
      ]
    },
    {
      "cell_type": "code",
      "source": [
        "# Übersicht über die ersten Zeilen der Daten\n",
        "\n",
        "# Überblick über Datentypen und fehlende Werte\n",
        "print(df.info())\n",
        "\n",
        "# Statistische Kennzahlen für numerische Spalten\n",
        "print(df.describe())\n",
        "\n",
        "# Überprüfen, ob es fehlende Werte gibt\n",
        "print(df.isnull().sum())\n"
      ],
      "metadata": {
        "colab": {
          "base_uri": "https://localhost:8080/"
        },
        "id": "hXWbE3p0dcLc",
        "outputId": "e4050954-a3b9-4118-9dab-b466b719cf5b"
      },
      "execution_count": null,
      "outputs": [
        {
          "output_type": "stream",
          "name": "stdout",
          "text": [
            "<class 'pandas.core.frame.DataFrame'>\n",
            "RangeIndex: 797 entries, 0 to 796\n",
            "Data columns (total 13 columns):\n",
            " #   Column                  Non-Null Count  Dtype  \n",
            "---  ------                  --------------  -----  \n",
            " 0   GITTER_ID_100m          797 non-null    object \n",
            " 1   x_mp_100m               797 non-null    int64  \n",
            " 2   y_mp_100m               797 non-null    int64  \n",
            " 3   geometry                797 non-null    object \n",
            " 4   AnteilUeber65           528 non-null    float64\n",
            " 5   AnteilAuslaender        284 non-null    float64\n",
            " 6   durchschnFlaechejeBew   690 non-null    float64\n",
            " 7   Durchschnittsalter      797 non-null    float64\n",
            " 8   Einwohner               797 non-null    int64  \n",
            " 9   durchschnMieteQM        378 non-null    float64\n",
            " 10  Insgesamt_Bevoelkerung  797 non-null    int64  \n",
            " 11  Unter10                 797 non-null    int64  \n",
            " 12  Anteil_unter10          797 non-null    float64\n",
            "dtypes: float64(6), int64(5), object(2)\n",
            "memory usage: 81.1+ KB\n",
            "None\n",
            "          x_mp_100m     y_mp_100m  AnteilUeber65  AnteilAuslaender  \\\n",
            "count  7.970000e+02  7.970000e+02     528.000000        284.000000   \n",
            "mean   4.357734e+06  2.859886e+06      32.542405         24.662535   \n",
            "std    2.100850e+03  2.239705e+03      20.886809         19.722777   \n",
            "min    4.353150e+06  2.854450e+06       3.450000          3.920000   \n",
            "25%    4.356350e+06  2.858750e+06      18.817500         11.360000   \n",
            "50%    4.357250e+06  2.859650e+06      27.270000         17.835000   \n",
            "75%    4.358650e+06  2.860850e+06      38.950000         30.385000   \n",
            "max    4.362850e+06  2.866450e+06     100.000000        100.000000   \n",
            "\n",
            "       durchschnFlaechejeBew  Durchschnittsalter   Einwohner  \\\n",
            "count             690.000000          797.000000  797.000000   \n",
            "mean               65.905420           45.545458   25.331242   \n",
            "std                17.785521           10.842873   23.867109   \n",
            "min                24.440000           14.860000    3.000000   \n",
            "25%                54.962500           38.970000    9.000000   \n",
            "50%                64.420000           44.430000   18.000000   \n",
            "75%                74.252500           51.340000   33.000000   \n",
            "max               190.020000           83.170000  144.000000   \n",
            "\n",
            "       durchschnMieteQM  Insgesamt_Bevoelkerung     Unter10  Anteil_unter10  \n",
            "count        378.000000              797.000000  797.000000      797.000000  \n",
            "mean           6.530714               25.331242    2.124216        7.498616  \n",
            "std            1.362102               23.867109    3.085609       11.230688  \n",
            "min            1.500000                3.000000    0.000000        0.000000  \n",
            "25%            5.735000                9.000000    0.000000        0.000000  \n",
            "50%            6.540000               18.000000    0.000000        0.000000  \n",
            "75%            7.175000               33.000000    3.000000       12.500000  \n",
            "max           12.310000              144.000000   25.000000       75.000000  \n",
            "GITTER_ID_100m              0\n",
            "x_mp_100m                   0\n",
            "y_mp_100m                   0\n",
            "geometry                    0\n",
            "AnteilUeber65             269\n",
            "AnteilAuslaender          513\n",
            "durchschnFlaechejeBew     107\n",
            "Durchschnittsalter          0\n",
            "Einwohner                   0\n",
            "durchschnMieteQM          419\n",
            "Insgesamt_Bevoelkerung      0\n",
            "Unter10                     0\n",
            "Anteil_unter10              0\n",
            "dtype: int64\n"
          ]
        }
      ]
    }
  ]
}