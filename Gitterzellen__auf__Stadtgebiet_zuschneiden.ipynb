{
  "nbformat": 4,
  "nbformat_minor": 0,
  "metadata": {
    "colab": {
      "provenance": [],
      "authorship_tag": "ABX9TyOVs3+9YD//4IW0hsmtklKn",
      "include_colab_link": true
    },
    "kernelspec": {
      "name": "python3",
      "display_name": "Python 3"
    },
    "language_info": {
      "name": "python"
    }
  },
  "cells": [
    {
      "cell_type": "markdown",
      "metadata": {
        "id": "view-in-github",
        "colab_type": "text"
      },
      "source": [
        "<a href=\"https://colab.research.google.com/github/Sarah-0405/Bachelorarbeit_/blob/main/Gitterzellen__auf__Stadtgebiet_zuschneiden.ipynb\" target=\"_parent\"><img src=\"https://colab.research.google.com/assets/colab-badge.svg\" alt=\"Open In Colab\"/></a>"
      ]
    },
    {
      "cell_type": "code",
      "execution_count": null,
      "metadata": {
        "colab": {
          "base_uri": "https://localhost:8080/"
        },
        "id": "adzYJVN6W5h-",
        "outputId": "7fe99c4d-cd58-4e99-ada3-4e299f6359d3"
      },
      "outputs": [
        {
          "output_type": "stream",
          "name": "stdout",
          "text": [
            "Mounted at /content/drive\n"
          ]
        }
      ],
      "source": [
        "from google.colab import drive\n",
        "drive.mount('/content/drive')\n"
      ]
    },
    {
      "cell_type": "code",
      "source": [
        "import pandas as pd\n",
        "import geopandas as gpd\n",
        "from shapely.geometry import Point\n"
      ],
      "metadata": {
        "id": "j9gFDv9GyIXy"
      },
      "execution_count": null,
      "outputs": []
    },
    {
      "cell_type": "code",
      "source": [
        "# Schritt 1: CSV-Datei mit Gitterzellen laden\n",
        "# Annahme: CSV enthält Spalten \"X\" und \"Y\" für die Koordinaten\n",
        "csv_path = \"/content/drive/MyDrive/Daten BA /Zensus_2022-Daten-Excel/Durchschnittsalter_in_Gitterzellen/Zensus2022_Durchschnittsalter_100m-Gitter.csv\"\n",
        "gitter_df = pd.read_csv(csv_path, sep=\";\")\n",
        "\n",
        "print(gitter_df.head)"
      ],
      "metadata": {
        "colab": {
          "base_uri": "https://localhost:8080/"
        },
        "id": "zG70Zbf4a0Z7",
        "outputId": "a129c932-11ed-43ea-a525-b031983f832f"
      },
      "execution_count": null,
      "outputs": [
        {
          "output_type": "stream",
          "name": "stderr",
          "text": [
            "<ipython-input-2-abe5adacc2ce>:8: DtypeWarning: Columns (4) have mixed types. Specify dtype option on import or set low_memory=False.\n",
            "  gitter_df = pd.read_csv(csv_path, sep=\";\")\n"
          ]
        },
        {
          "output_type": "stream",
          "name": "stdout",
          "text": [
            "<bound method NDFrame.head of                          GITTER_ID_100m  x_mp_100m  y_mp_100m  \\\n",
            "0        CRS3035RES100mN2689100E4337000    4337050    2689150   \n",
            "1        CRS3035RES100mN2689100E4341100    4341150    2689150   \n",
            "2        CRS3035RES100mN2690800E4341200    4341250    2690850   \n",
            "3        CRS3035RES100mN2691200E4341200    4341250    2691250   \n",
            "4        CRS3035RES100mN2691300E4341200    4341250    2691350   \n",
            "...                                 ...        ...        ...   \n",
            "3088031  CRS3035RES100mN3547500E4220100    4220150    3547550   \n",
            "3088032  CRS3035RES100mN3547600E4219800    4219850    3547650   \n",
            "3088033  CRS3035RES100mN3547600E4219900    4219950    3547650   \n",
            "3088034  CRS3035RES100mN3547600E4220000    4220050    3547650   \n",
            "3088035  CRS3035RES100mN3547600E4220100    4220150    3547650   \n",
            "\n",
            "        Durchschnittsalter werterlaeuternde_Zeichen  \n",
            "0                    36,75                      NaN  \n",
            "1                    39,78                      NaN  \n",
            "2                    37,56                      NaN  \n",
            "3                    38,05                      NaN  \n",
            "4                    49,64                      NaN  \n",
            "...                    ...                      ...  \n",
            "3088031              67,60                      NaN  \n",
            "3088032              76,16                      NaN  \n",
            "3088033              53,80                      NaN  \n",
            "3088034              15,09                      NaN  \n",
            "3088035              69,50                      NaN  \n",
            "\n",
            "[3088036 rows x 5 columns]>\n"
          ]
        }
      ]
    },
    {
      "cell_type": "code",
      "source": [
        "# Lade die CSV-Datei und drucke die Spaltennamen\n",
        "print(\"Spaltennamen in der CSV-Datei:\", gitter_df.columns)\n"
      ],
      "metadata": {
        "colab": {
          "base_uri": "https://localhost:8080/"
        },
        "id": "yX3b4Q8Xdu9M",
        "outputId": "a5e5777f-bea5-47c0-bc9d-2f3aba1ca194"
      },
      "execution_count": null,
      "outputs": [
        {
          "output_type": "stream",
          "name": "stdout",
          "text": [
            "Spaltennamen in der CSV-Datei: Index(['GITTER_ID_100m', 'x_mp_100m', 'y_mp_100m', 'Durchschnittsalter',\n",
            "       'werterlaeuternde_Zeichen'],\n",
            "      dtype='object')\n"
          ]
        }
      ]
    },
    {
      "cell_type": "code",
      "source": [
        "# Assuming your DataFrame is named 'gitter_df'\n",
        "gitter_df = gitter_df.drop(columns=[\"werterlaeuternde_Zeichen\"])\n",
        "\n",
        "# Print the remaining columns to verify\n",
        "print(\"Spaltennamen nach dem Löschen:\", gitter_df.columns)"
      ],
      "metadata": {
        "colab": {
          "base_uri": "https://localhost:8080/"
        },
        "id": "lDAz1D44EjIs",
        "outputId": "7553bdbc-cd9e-4918-b2e3-9250be1c5cd0"
      },
      "execution_count": null,
      "outputs": [
        {
          "output_type": "stream",
          "name": "stdout",
          "text": [
            "Spaltennamen nach dem Löschen: Index(['GITTER_ID_100m', 'x_mp_100m', 'y_mp_100m', 'Durchschnittsalter'], dtype='object')\n"
          ]
        }
      ]
    },
    {
      "cell_type": "code",
      "source": [
        "print(gitter_df.head)"
      ],
      "metadata": {
        "collapsed": true,
        "colab": {
          "base_uri": "https://localhost:8080/"
        },
        "id": "F3IZevu3EpRY",
        "outputId": "b5f578fe-f35c-4fff-f80d-80b8f0c917bc"
      },
      "execution_count": null,
      "outputs": [
        {
          "output_type": "stream",
          "name": "stdout",
          "text": [
            "<bound method NDFrame.head of                          GITTER_ID_100m  x_mp_100m  y_mp_100m  \\\n",
            "0        CRS3035RES100mN2689100E4337000    4337050    2689150   \n",
            "1        CRS3035RES100mN2689100E4341100    4341150    2689150   \n",
            "2        CRS3035RES100mN2690800E4341200    4341250    2690850   \n",
            "3        CRS3035RES100mN2691200E4341200    4341250    2691250   \n",
            "4        CRS3035RES100mN2691300E4341200    4341250    2691350   \n",
            "...                                 ...        ...        ...   \n",
            "3088031  CRS3035RES100mN3547500E4220100    4220150    3547550   \n",
            "3088032  CRS3035RES100mN3547600E4219800    4219850    3547650   \n",
            "3088033  CRS3035RES100mN3547600E4219900    4219950    3547650   \n",
            "3088034  CRS3035RES100mN3547600E4220000    4220050    3547650   \n",
            "3088035  CRS3035RES100mN3547600E4220100    4220150    3547650   \n",
            "\n",
            "        Durchschnittsalter  \n",
            "0                    36,75  \n",
            "1                    39,78  \n",
            "2                    37,56  \n",
            "3                    38,05  \n",
            "4                    49,64  \n",
            "...                    ...  \n",
            "3088031              67,60  \n",
            "3088032              76,16  \n",
            "3088033              53,80  \n",
            "3088034              15,09  \n",
            "3088035              69,50  \n",
            "\n",
            "[3088036 rows x 4 columns]>\n"
          ]
        }
      ]
    },
    {
      "cell_type": "code",
      "source": [
        "# Annahme: CSV enthält Spalten \"x_mp_100m\" und \"y_mp_100m\" für die Koordinaten\n",
        "\n",
        "print(\"Spaltennamen in der CSV-Datei:\", gitter_df.columns)  # Debugging\n",
        "\n",
        "# Geometrie aus den Koordinaten erstellen\n",
        "gitter_df['geometry'] = gitter_df.apply(\n",
        "    lambda row: Point(row['x_mp_100m'], row['y_mp_100m']), axis=1\n",
        ")\n",
        "gitter_gdf = gpd.GeoDataFrame(gitter_df, geometry='geometry', crs=\"EPSG:3035\")  # EPSG:3035 = ETRS89-LAEA Europe\n",
        "\n",
        "# Schritt 2: Stadtgrenze von Nördlingen laden (z. B. Shapefile)\n",
        "stadt_path = \"/content/drive/MyDrive/Daten BA /Shapefile_Zensus2022/EPSG_25832/Nördlingen_Gerenze_shp.shp\"\n",
        "stadt_gdf = gpd.read_file(stadt_path)\n",
        "\n",
        "# Schritt 3: Prüfen, ob beide Layer dasselbe CRS verwenden\n",
        "if gitter_gdf.crs != stadt_gdf.crs:\n",
        "    stadt_gdf = stadt_gdf.to_crs(gitter_gdf.crs)\n",
        "\n",
        "# Schritt 4: Zuschneiden der Gitterzellen auf die Stadtgrenze\n",
        "gitter_in_stadt = gitter_gdf[gitter_gdf.geometry.within(stadt_gdf.union_all())]\n",
        "\n",
        "# Schritt 5: Ergebnis speichern\n",
        "output_path = \"gitterzellen_noerdlingen.csv\"\n",
        "gitter_in_stadt.to_csv(output_path, index=False)\n",
        "\n",
        "print(f\"Ergebnis gespeichert: {output_path}\")\n"
      ],
      "metadata": {
        "colab": {
          "base_uri": "https://localhost:8080/"
        },
        "id": "ZvVgyVhUd_5k",
        "outputId": "18a92377-48bc-4561-e394-edc1212d511e"
      },
      "execution_count": null,
      "outputs": [
        {
          "output_type": "stream",
          "name": "stdout",
          "text": [
            "Spaltennamen in der CSV-Datei: Index(['GITTER_ID_100m', 'x_mp_100m', 'y_mp_100m', 'Durchschnittsalter'], dtype='object')\n"
          ]
        },
        {
          "output_type": "stream",
          "name": "stderr",
          "text": [
            "<ipython-input-6-8de778748d13>:20: DeprecationWarning: The 'unary_union' attribute is deprecated, use the 'union_all()' method instead.\n",
            "  gitter_in_stadt = gitter_gdf[gitter_gdf.geometry.within(stadt_gdf.unary_union)]\n"
          ]
        },
        {
          "output_type": "stream",
          "name": "stdout",
          "text": [
            "Ergebnis gespeichert: gitterzellen_noerdlingen.csv\n"
          ]
        }
      ]
    },
    {
      "cell_type": "code",
      "source": [
        "# Read the saved CSV file into a DataFrame\n",
        "output = pd.read_csv(output_path) # Read the saved file\n",
        "print(output) # Call the head() method on the DataFrame"
      ],
      "metadata": {
        "colab": {
          "base_uri": "https://localhost:8080/"
        },
        "id": "vuherxljfoWe",
        "outputId": "83104cba-7b41-41a6-9290-2d2cf8360cb2"
      },
      "execution_count": null,
      "outputs": [
        {
          "output_type": "stream",
          "name": "stdout",
          "text": [
            "                     GITTER_ID_100m  x_mp_100m  y_mp_100m Durchschnittsalter  \\\n",
            "0    CRS3035RES100mN2854400E4359000    4359050    2854450              37,13   \n",
            "1    CRS3035RES100mN2854500E4358400    4358450    2854550              53,48   \n",
            "2    CRS3035RES100mN2854500E4358700    4358750    2854550              57,78   \n",
            "3    CRS3035RES100mN2854500E4358800    4358850    2854550              43,04   \n",
            "4    CRS3035RES100mN2854500E4358900    4358950    2854550              36,65   \n",
            "..                              ...        ...        ...                ...   \n",
            "792  CRS3035RES100mN2866000E4361200    4361250    2866050              55,21   \n",
            "793  CRS3035RES100mN2866000E4361300    4361350    2866050              28,85   \n",
            "794  CRS3035RES100mN2866000E4361500    4361550    2866050              57,18   \n",
            "795  CRS3035RES100mN2866100E4361300    4361350    2866150              62,33   \n",
            "796  CRS3035RES100mN2866400E4361700    4361750    2866450              44,00   \n",
            "\n",
            "                    geometry  \n",
            "0    POINT (4359050 2854450)  \n",
            "1    POINT (4358450 2854550)  \n",
            "2    POINT (4358750 2854550)  \n",
            "3    POINT (4358850 2854550)  \n",
            "4    POINT (4358950 2854550)  \n",
            "..                       ...  \n",
            "792  POINT (4361250 2866050)  \n",
            "793  POINT (4361350 2866050)  \n",
            "794  POINT (4361550 2866050)  \n",
            "795  POINT (4361350 2866150)  \n",
            "796  POINT (4361750 2866450)  \n",
            "\n",
            "[797 rows x 5 columns]\n"
          ]
        }
      ]
    },
    {
      "cell_type": "code",
      "source": [
        "# Lade die neue CSV-Datei\n",
        "csv_path = \"/content/gitterzellen_noerdlingen.csv\"\n",
        "df = pd.read_csv(csv_path)\n",
        "\n",
        "# Spaltennamen anzeigen (optional, um die Namen zu prüfen)\n",
        "print(\"Spaltennamen vor dem Löschen:\", df.columns)\n"
      ],
      "metadata": {
        "colab": {
          "base_uri": "https://localhost:8080/"
        },
        "id": "3K7t3xi6hRtb",
        "outputId": "fd2e0796-73d5-49fc-c839-8910c8e04c4c"
      },
      "execution_count": null,
      "outputs": [
        {
          "output_type": "stream",
          "name": "stdout",
          "text": [
            "Spaltennamen vor dem Löschen: Index(['GITTER_ID_100m', 'x_mp_100m', 'y_mp_100m', 'Durchschnittsalter',\n",
            "       'geometry'],\n",
            "      dtype='object')\n"
          ]
        }
      ]
    },
    {
      "cell_type": "code",
      "source": [
        "# Lösche die Spalte \"Durchschnittsalter\"\n",
        "df = df.drop(columns=[\"Durchschnittsalter\"])\n",
        "\n",
        "# Spaltennamen nach dem Löschen prüfen\n",
        "print(\"Spaltennamen nach dem Löschen:\", df.columns)\n"
      ],
      "metadata": {
        "colab": {
          "base_uri": "https://localhost:8080/"
        },
        "id": "gI3e1_h4hYZB",
        "outputId": "997f917a-e5d4-4ba0-c9d7-c437bb2357e9"
      },
      "execution_count": null,
      "outputs": [
        {
          "output_type": "stream",
          "name": "stdout",
          "text": [
            "Spaltennamen nach dem Löschen: Index(['GITTER_ID_100m', 'x_mp_100m', 'y_mp_100m', 'geometry'], dtype='object')\n"
          ]
        }
      ]
    },
    {
      "cell_type": "code",
      "source": [
        "# Bereinigte Tabelle als neue CSV speichern\n",
        "output_path = \"gitterzellen_noerdlingen_clean.csv\"\n",
        "df.to_csv(output_path, index=False)\n",
        "\n",
        "print(f\"Bereinigte CSV-Datei gespeichert unter: {output_path}\")\n"
      ],
      "metadata": {
        "colab": {
          "base_uri": "https://localhost:8080/"
        },
        "id": "jP1R6FJphgpa",
        "outputId": "a75b5585-28e8-4b32-b944-e3e72ff94143"
      },
      "execution_count": null,
      "outputs": [
        {
          "output_type": "stream",
          "name": "stdout",
          "text": [
            "Bereinigte CSV-Datei gespeichert unter: gitterzellen_noerdlingen_clean.csv\n"
          ]
        }
      ]
    },
    {
      "cell_type": "code",
      "source": [
        "# Read the saved CSV file into a DataFrame\n",
        "output = pd.read_csv(output_path) # Read the saved file\n",
        "print(output) # Call the head() method on the DataFrame"
      ],
      "metadata": {
        "colab": {
          "base_uri": "https://localhost:8080/"
        },
        "id": "XUjCNlonh849",
        "outputId": "4e93922f-0a46-4620-f928-502086898372"
      },
      "execution_count": null,
      "outputs": [
        {
          "output_type": "stream",
          "name": "stdout",
          "text": [
            "                     GITTER_ID_100m  x_mp_100m  y_mp_100m  \\\n",
            "0    CRS3035RES100mN2854400E4359000    4359050    2854450   \n",
            "1    CRS3035RES100mN2854500E4358400    4358450    2854550   \n",
            "2    CRS3035RES100mN2854500E4358700    4358750    2854550   \n",
            "3    CRS3035RES100mN2854500E4358800    4358850    2854550   \n",
            "4    CRS3035RES100mN2854500E4358900    4358950    2854550   \n",
            "..                              ...        ...        ...   \n",
            "792  CRS3035RES100mN2866000E4361200    4361250    2866050   \n",
            "793  CRS3035RES100mN2866000E4361300    4361350    2866050   \n",
            "794  CRS3035RES100mN2866000E4361500    4361550    2866050   \n",
            "795  CRS3035RES100mN2866100E4361300    4361350    2866150   \n",
            "796  CRS3035RES100mN2866400E4361700    4361750    2866450   \n",
            "\n",
            "                    geometry  \n",
            "0    POINT (4359050 2854450)  \n",
            "1    POINT (4358450 2854550)  \n",
            "2    POINT (4358750 2854550)  \n",
            "3    POINT (4358850 2854550)  \n",
            "4    POINT (4358950 2854550)  \n",
            "..                       ...  \n",
            "792  POINT (4361250 2866050)  \n",
            "793  POINT (4361350 2866050)  \n",
            "794  POINT (4361550 2866050)  \n",
            "795  POINT (4361350 2866150)  \n",
            "796  POINT (4361750 2866450)  \n",
            "\n",
            "[797 rows x 4 columns]\n"
          ]
        }
      ]
    },
    {
      "cell_type": "markdown",
      "source": [
        "Gitterzellen jetzt auf VWG Nördlingen zugeschnitten\n",
        "\n",
        "jetzt: Workflow auf weitere Städte anwenden => reproduzierbar machen\n",
        "\n",
        "erstmal: shp.-Datei auf andere Städte zuschneiden: Kempten und Ingolstadt"
      ],
      "metadata": {
        "id": "whySHbUliNWK"
      }
    },
    {
      "cell_type": "markdown",
      "source": [
        "mit existierendem Shapefile (in qgis extrahiert) eine csv. Tabelle auf dieses zuschneiden"
      ],
      "metadata": {
        "id": "eD8SbX5XhV2k"
      }
    },
    {
      "cell_type": "code",
      "source": [
        "# Funktion: Gitterzellen auf Stadt zuschneiden\n",
        "def zuschneiden_gitterzellen(csv_path, shapefile_path, output_path, drop_columns=None):\n",
        "    \"\"\"\n",
        "    Schneidet Gitterzellen auf die Stadtgrenze zu und speichert das Ergebnis.\n",
        "\n",
        "    Args:\n",
        "        csv_path (str): Pfad zur CSV-Datei mit Gitterzellen.\n",
        "        shapefile_path (str): Pfad zur Shapefile-Datei der Stadtgrenze.\n",
        "        output_path (str): Pfad, um die bereinigte CSV zu speichern.\n",
        "        drop_columns (list, optional): Liste der Spalten, die gelöscht werden sollen.\n",
        "    \"\"\"\n",
        "    # Schritt 1: CSV-Datei mit Gitterzellen laden\n",
        "    gitter_df = pd.read_csv(csv_path, sep=\";\")\n",
        "    gitter_df['geometry'] = gitter_df.apply(\n",
        "        lambda row: Point(row['x_mp_100m'], row['y_mp_100m']), axis=1\n",
        "    )\n",
        "    gitter_gdf = gpd.GeoDataFrame(gitter_df, geometry='geometry', crs=\"EPSG:3035\")\n",
        "\n",
        "    # Schritt 2: Stadtgrenze laden\n",
        "    stadt_gdf = gpd.read_file(shapefile_path)\n",
        "\n",
        "    # Schritt 3: Prüfen, ob beide Layer dasselbe CRS verwenden\n",
        "    if gitter_gdf.crs != stadt_gdf.crs:\n",
        "        stadt_gdf = stadt_gdf.to_crs(gitter_gdf.crs)\n",
        "\n",
        "    # Schritt 4: Zuschneiden der Gitterzellen auf die Stadtgrenze\n",
        "    gitter_in_stadt = gitter_gdf[gitter_gdf.geometry.within(stadt_gdf.union_all())]\n",
        "\n",
        "    # Schritt 5: Optional: Spalten löschen: da als CSV-Datei mit Gitterzellen die Datei \"Durchschnittsalter_100m_Gitter\" verwendet wurde, wurde im folgenden die Spalte \"Durchschnittsalter\" gelöscht, um lediglich die Geometriedaten zu erhalten.\n",
        "    if drop_columns:\n",
        "        gitter_in_stadt = gitter_in_stadt.drop(columns=drop_columns)\n",
        "\n",
        "    # Schritt 6: Ergebnis speichern\n",
        "    gitter_in_stadt.to_csv(output_path, index=False)\n",
        "    print(f\"Ergebnis gespeichert: {output_path}\")\n",
        "\n",
        "    # Tabelle anzeigen (nur die ersten 5 Zeilen)\n",
        "    print(f\"Ergebnisse für {shapefile_path} (erste 5 Zeilen):\")\n",
        "    print(gitter_in_stadt.head())  # Zeigt die ersten 5 Zeilen der bereinigten Tabelle an\n",
        "\n",
        "\n",
        "# Beispiel: Zuschnitt auf zwei Städte\n",
        "csv_path = \"/content/drive/MyDrive/Daten BA /Zensus_2022-Daten-Excel/Durchschnittsalter_in_Gitterzellen/Zensus2022_Durchschnittsalter_100m-Gitter.csv\"  # CSV mit Gitterzellen\n",
        "Kempten_shapefile = \"/content/drive/MyDrive/Daten BA /Shapefile_Zensus2022/EPSG_25832/Kempten (Allgäu) .shp\"  # Shapefile für Stadt 1\n",
        "Ingolstadt_shapefile = \"/content/drive/MyDrive/Daten BA /Shapefile_Zensus2022/EPSG_25832/Ingolstadt .shp\"  # Shapefile für Stadt 2\n",
        "\n",
        "# Zuschnitt für Stadt 1\n",
        "zuschneiden_gitterzellen(\n",
        "    csv_path=csv_path,\n",
        "    shapefile_path=Kempten_shapefile,\n",
        "    output_path=\"gitterzellen_kempten_clean.csv\",\n",
        "    drop_columns=[\"Durchschnittsalter\", \"werterlaeuternde_Zeichen\"]  # Entferne unnötige Spalten\n",
        ")\n",
        "\n",
        "# Zuschnitt für Stadt 2\n",
        "zuschneiden_gitterzellen(\n",
        "    csv_path=csv_path,\n",
        "    shapefile_path=Ingolstadt_shapefile,\n",
        "    output_path=\"gitterzellen_Ingolstadt_clean.csv\",\n",
        "    drop_columns=[\"Durchschnittsalter\", \"werterlaeuternde_Zeichen\"]\n",
        ")\n",
        "\n"
      ],
      "metadata": {
        "colab": {
          "base_uri": "https://localhost:8080/"
        },
        "id": "Ig7Dk8MoiSLT",
        "outputId": "0104bfb4-9645-4aaa-cafe-693a2c375383"
      },
      "execution_count": null,
      "outputs": [
        {
          "output_type": "stream",
          "name": "stderr",
          "text": [
            "<ipython-input-5-3857b2ff0c94>:17: DtypeWarning: Columns (4) have mixed types. Specify dtype option on import or set low_memory=False.\n",
            "  gitter_df = pd.read_csv(csv_path, sep=\";\")\n"
          ]
        },
        {
          "output_type": "stream",
          "name": "stdout",
          "text": [
            "Ergebnis gespeichert: gitterzellen_kempten_clean.csv\n",
            "Ergebnisse für /content/drive/MyDrive/Daten BA /Shapefile_Zensus2022/EPSG_25832/Kempten (Allgäu) .shp (erste 5 Zeilen):\n",
            "                       GITTER_ID_100m  x_mp_100m  y_mp_100m  \\\n",
            "38078  CRS3035RES100mN2731600E4345000    4345050    2731650   \n",
            "38399  CRS3035RES100mN2731700E4344700    4344750    2731750   \n",
            "38721  CRS3035RES100mN2731800E4342000    4342050    2731850   \n",
            "38722  CRS3035RES100mN2731800E4344600    4344650    2731850   \n",
            "38723  CRS3035RES100mN2731800E4344700    4344750    2731850   \n",
            "\n",
            "                      geometry  \n",
            "38078  POINT (4345050 2731650)  \n",
            "38399  POINT (4344750 2731750)  \n",
            "38721  POINT (4342050 2731850)  \n",
            "38722  POINT (4344650 2731850)  \n",
            "38723  POINT (4344750 2731850)  \n"
          ]
        },
        {
          "output_type": "stream",
          "name": "stderr",
          "text": [
            "<ipython-input-5-3857b2ff0c94>:17: DtypeWarning: Columns (4) have mixed types. Specify dtype option on import or set low_memory=False.\n",
            "  gitter_df = pd.read_csv(csv_path, sep=\";\")\n"
          ]
        },
        {
          "output_type": "stream",
          "name": "stdout",
          "text": [
            "Ergebnis gespeichert: gitterzellen_Ingolstadt_clean.csv\n",
            "Ergebnisse für /content/drive/MyDrive/Daten BA /Shapefile_Zensus2022/EPSG_25832/Ingolstadt .shp (erste 5 Zeilen):\n",
            "                        GITTER_ID_100m  x_mp_100m  y_mp_100m  \\\n",
            "452589  CRS3035RES100mN2843300E4424300    4424350    2843350   \n",
            "454439  CRS3035RES100mN2843700E4425900    4425950    2843750   \n",
            "454440  CRS3035RES100mN2843700E4426000    4426050    2843750   \n",
            "454917  CRS3035RES100mN2843800E4423200    4423250    2843850   \n",
            "454918  CRS3035RES100mN2843800E4423300    4423350    2843850   \n",
            "\n",
            "                       geometry  \n",
            "452589  POINT (4424350 2843350)  \n",
            "454439  POINT (4425950 2843750)  \n",
            "454440  POINT (4426050 2843750)  \n",
            "454917  POINT (4423250 2843850)  \n",
            "454918  POINT (4423350 2843850)  \n"
          ]
        }
      ]
    },
    {
      "cell_type": "markdown",
      "source": [
        "erfolgreich Gitterzellen auf die 3 Städte Nördlingen, Kempten und Ingolstadt geclippt und als csv. gespeichert. Die Tabellen können jetzt räumlich analysiert werden\n",
        "\n",
        "nächster Schritt: den Tabellen die Spalten für die zu vergleichenden Werte hinzufügen (Durchschnittsalter,...)\n"
      ],
      "metadata": {
        "id": "yxVnwO0b2dU_"
      }
    },
    {
      "cell_type": "code",
      "source": [
        "# Funktion: Merkmalsattribute zu Hauptdokument hinzufügen\n",
        "def kombiniere_daten(hauptdokument_path, merkmale_paths, output_path, sep=\";\"):\n",
        "    \"\"\"\n",
        "    Kombiniert ein Hauptdokument (Gitterzellen einer Stadt) mit Merkmalsattributen.\n",
        "\n",
        "    Args:\n",
        "        hauptdokument_path (str): Pfad zum Hauptdokument (Gitterzellen für eine Stadt).\n",
        "        merkmale_paths (list): Liste der Pfade zu den CSV-Dateien mit Attributen.\n",
        "        output_path (str): Pfad zur kombinierten und bereinigten CSV-Datei.\n",
        "        sep (string, optional): Trennzeichen der csv. Datei\n",
        "    \"\"\"\n",
        "    # Hauptdokument laden (z. B. Gitterzellen für Nördlingen)\n",
        "    hauptdokument = pd.read_csv(hauptdokument_path)\n",
        "\n",
        "    # Iteriere durch alle Merkmalsdateien\n",
        "    for merkmale_path in merkmale_paths:\n",
        "        # Merkmale-Datei laden\n",
        "        # Specify the delimiter as semicolon (;)\n",
        "        merkmale = pd.read_csv(merkmale_path, sep=sep, low_memory=False)  # low_memory aufgrund von Kommentar, dass Datentypen der Spalten verschieden sind\n",
        "\n",
        "\n",
        "        # Relevante Zeilen basierend auf Gitterzellen-ID extrahieren\n",
        "        merkmale_relevant = merkmale[merkmale[\"GITTER_ID_100m\"].isin(hauptdokument[\"GITTER_ID_100m\"])]\n",
        "\n",
        "        # Spalten aus merkmale_relevant auswählen, die nicht bereits in hauptdokument vorhanden sind\n",
        "        # und nicht der Merge-Key sind\n",
        "        merkmale_cols = [\n",
        "            col for col in merkmale_relevant.columns\n",
        "            if col not in hauptdokument.columns or col == \"GITTER_ID_100m\"\n",
        "        ]\n",
        "\n",
        "        # Zusammenfügen der Merkmalsdaten mit dem Hauptdokument,\n",
        "        # nur die ausgewählten Spalten verwenden\n",
        "        hauptdokument = pd.merge(\n",
        "            hauptdokument,\n",
        "            merkmale_relevant[merkmale_cols],\n",
        "            on=\"GITTER_ID_100m\",\n",
        "            how=\"left\"\n",
        "        )\n",
        "\n",
        "    # Kombinierte Tabelle speichern\n",
        "    hauptdokument.to_csv(output_path, index=False, sep=sep)\n",
        "    print(f\"Kombinierte Datei gespeichert unter: {output_path}\")"
      ],
      "metadata": {
        "id": "4BOw-LFbcdY8"
      },
      "execution_count": null,
      "outputs": []
    },
    {
      "cell_type": "code",
      "source": [
        "# Den Pfad zur CSV-Datei angeben\n",
        "csv_datei = '/content/noerdlingen_merged.csv'\n",
        "\n",
        "# Die CSV-Datei laden\n",
        "df = pd.read_csv(csv_datei)\n",
        "\n",
        "# Die ersten Zeilen anzeigen (Standard: 5 Zeilen)\n",
        "print(df.head())\n"
      ],
      "metadata": {
        "colab": {
          "base_uri": "https://localhost:8080/"
        },
        "id": "tHRoOr0Zd-ea",
        "outputId": "7a9b44b7-998e-4f39-e808-1dce03e1d7ba"
      },
      "execution_count": null,
      "outputs": [
        {
          "output_type": "stream",
          "name": "stdout",
          "text": [
            "                   GITTER_ID_100m  x_mp_100m  y_mp_100m  \\\n",
            "0  CRS3035RES100mN2854400E4359000    4359050    2854450   \n",
            "1  CRS3035RES100mN2854500E4358400    4358450    2854550   \n",
            "2  CRS3035RES100mN2854500E4358700    4358750    2854550   \n",
            "3  CRS3035RES100mN2854500E4358800    4358850    2854550   \n",
            "4  CRS3035RES100mN2854500E4358900    4358950    2854550   \n",
            "\n",
            "   werterlaeuternde_Zeichen                 geometry AnteilUeber65  \\\n",
            "0                       NaN  POINT (4359050 2854450)             –   \n",
            "1                       NaN  POINT (4358450 2854550)             –   \n",
            "2                       NaN  POINT (4358750 2854550)             –   \n",
            "3                       NaN  POINT (4358850 2854550)         13,64   \n",
            "4                       NaN  POINT (4358950 2854550)             –   \n",
            "\n",
            "  AnteilAuslaender durchschnFlaechejeBew Durchschnittsalter  Einwohner  \\\n",
            "0                –                 65,00              37,13          3   \n",
            "1                –                   NaN              53,48          3   \n",
            "2                –                 39,04              57,78          6   \n",
            "3                –                 78,77              43,04         22   \n",
            "4                –                 48,23              36,65         20   \n",
            "\n",
            "  durchschnMieteQM  \n",
            "0              NaN  \n",
            "1              NaN  \n",
            "2              NaN  \n",
            "3              NaN  \n",
            "4             4,75  \n"
          ]
        }
      ]
    },
    {
      "cell_type": "markdown",
      "source": [
        "es soll noch ein Parameter dazu: Anzahl der Bevölkerung im Alter von unter 10 Jahren\n",
        "\n",
        "=> dieser ist noch in Tabelle mit weiteren Altersklassen\n",
        "\n",
        "1. alle anderen Altersklassen (Spalten) löschen\n",
        "\n",
        "2. Anteil der Bevölkerung unter 10 berechnen\n",
        "\n",
        "=> Anzahl unter 10 / insgesamt Bevölkerung\n",
        "\n",
        "aus – 0 oder leere Zelle machen"
      ],
      "metadata": {
        "id": "JANTexvOjLjA"
      }
    },
    {
      "cell_type": "code",
      "source": [
        "# Schritt 1: CSV-Datei mit Gitterzellen laden\n",
        "# Annahme: CSV enthält Spalten \"X\" und \"Y\" für die Koordinaten\n",
        "csv_path = \"/content/drive/MyDrive/Daten BA /Zensus_2022-Daten-Excel/Zensus2022_Alter_in_10er-Jahresgruppen_100m-Gitter.csv\"\n",
        "gitter_df = pd.read_csv(csv_path, sep=\";\")\n",
        "\n",
        "gitter_id_column = gitter_df[\"GITTER_ID_100m\"]\n",
        "\n",
        "print(gitter_df.head)\n",
        "print(\"Spaltennamen vor dem Löschen:\", gitter_df.columns)"
      ],
      "metadata": {
        "colab": {
          "base_uri": "https://localhost:8080/"
        },
        "id": "1Sn7-wz5jLIh",
        "outputId": "6c34da72-577f-4b90-fe32-f636398b71c3"
      },
      "execution_count": null,
      "outputs": [
        {
          "output_type": "stream",
          "name": "stdout",
          "text": [
            "<bound method NDFrame.head of                          GITTER_ID_100m  x_mp_100m  y_mp_100m  \\\n",
            "0        CRS3035RES100mN2689100E4337000    4337050    2689150   \n",
            "1        CRS3035RES100mN2689100E4341100    4341150    2689150   \n",
            "2        CRS3035RES100mN2690800E4341200    4341250    2690850   \n",
            "3        CRS3035RES100mN2691200E4341200    4341250    2691250   \n",
            "4        CRS3035RES100mN2691300E4341200    4341250    2691350   \n",
            "...                                 ...        ...        ...   \n",
            "3088032  CRS3035RES100mN3547500E4220100    4220150    3547550   \n",
            "3088033  CRS3035RES100mN3547600E4219800    4219850    3547650   \n",
            "3088034  CRS3035RES100mN3547600E4219900    4219950    3547650   \n",
            "3088035  CRS3035RES100mN3547600E4220000    4220050    3547650   \n",
            "3088036  CRS3035RES100mN3547600E4220100    4220150    3547650   \n",
            "\n",
            "         Insgesamt_Bevoelkerung Unter10 a10bis19 a20bis29 a30bis39 a40bis49  \\\n",
            "0                             4       –        –        –        –        –   \n",
            "1                            11       –        4        –        –        3   \n",
            "2                             4       –        –        –        –        –   \n",
            "3                            12       –        –        6        3        3   \n",
            "4                             3       –        –        –        –        –   \n",
            "...                         ...     ...      ...      ...      ...      ...   \n",
            "3088032                      14       –        –        3        –        –   \n",
            "3088033                       4       –        –        –        –        –   \n",
            "3088034                      10       –        –        3        –        4   \n",
            "3088035                       3       –        –        –        –        –   \n",
            "3088036                       3       –        –        –        –        –   \n",
            "\n",
            "        a50bis59 a60bis69 a70bis79 a80undaelter  \n",
            "0              –        –        –            –  \n",
            "1              –        –        3            –  \n",
            "2              –        –        –            –  \n",
            "3              –        –        –            –  \n",
            "4              –        –        –            –  \n",
            "...          ...      ...      ...          ...  \n",
            "3088032        3        6        3            4  \n",
            "3088033        –        –        –            –  \n",
            "3088034        –        3        –            –  \n",
            "3088035        –        –        –            –  \n",
            "3088036        –        –        –            –  \n",
            "\n",
            "[3088037 rows x 13 columns]>\n",
            "Spaltennamen vor dem Löschen: Index(['GITTER_ID_100m', 'x_mp_100m', 'y_mp_100m', 'Insgesamt_Bevoelkerung',\n",
            "       'Unter10', 'a10bis19', 'a20bis29', 'a30bis39', 'a40bis49', 'a50bis59',\n",
            "       'a60bis69', 'a70bis79', 'a80undaelter'],\n",
            "      dtype='object')\n"
          ]
        }
      ]
    },
    {
      "cell_type": "code",
      "source": [
        "gitter_df = gitter_df.drop(columns=[\"a10bis19\", \"a20bis29\", \"a30bis39\", \"a40bis49\", \"a50bis59\", \"a60bis69\", \"a70bis79\", \"a80undaelter\"])\n",
        "\n",
        "print (\"Spaltennamen nach dem Löschen:\", gitter_df.columns)\n"
      ],
      "metadata": {
        "colab": {
          "base_uri": "https://localhost:8080/"
        },
        "id": "eNURw-1lk_ai",
        "outputId": "fcc2b3bb-fd94-478c-f3ad-44062bcb5b6f"
      },
      "execution_count": null,
      "outputs": [
        {
          "output_type": "stream",
          "name": "stdout",
          "text": [
            "Spaltennamen nach dem Löschen: Index(['GITTER_ID_100m', 'x_mp_100m', 'y_mp_100m', 'Insgesamt_Bevoelkerung',\n",
            "       'Unter10'],\n",
            "      dtype='object')\n"
          ]
        }
      ]
    },
    {
      "cell_type": "code",
      "source": [
        "# Anteil der Unter-10-Jährigen berechnen\n",
        "# Replace dashes with 0 and convert to numeric\n",
        "gitter_df['Unter10'] = pd.to_numeric(gitter_df['Unter10'].astype(str).str.replace('–', '0'), errors='coerce')\n",
        "gitter_df['Insgesamt_Bevoelkerung'] = pd.to_numeric(gitter_df['Insgesamt_Bevoelkerung'].astype(str).str.replace('–', '0'), errors='coerce')\n",
        "\n",
        "# Calculate the percentage, handling potential division by zero\n",
        "gitter_df['Anteil_unter10'] = (gitter_df['Unter10'] / gitter_df['Insgesamt_Bevoelkerung']) * 100\n",
        "gitter_df['Anteil_unter10'] = gitter_df['Anteil_unter10'].fillna(0) # Replace NaN with 0 if 'Insgesamt_Bevoelkerung' is 0"
      ],
      "metadata": {
        "id": "s5xSd7bMvdt4"
      },
      "execution_count": null,
      "outputs": []
    },
    {
      "cell_type": "code",
      "source": [
        "# Before saving, make sure 'GITTER_ID_100m' is included\n",
        "# If it was dropped earlier, you need to add it back\n",
        "gitter_df['GITTER_ID_100m'] = gitter_id_column"
      ],
      "metadata": {
        "id": "8jwjqGf50CH2"
      },
      "execution_count": null,
      "outputs": []
    },
    {
      "cell_type": "code",
      "source": [
        "gitter_df.head(10)"
      ],
      "metadata": {
        "colab": {
          "base_uri": "https://localhost:8080/",
          "height": 379
        },
        "id": "Ua0WTyQqv2Qm",
        "outputId": "7e013395-5747-4c5f-998a-f5e10b1ae0b6"
      },
      "execution_count": null,
      "outputs": [
        {
          "output_type": "execute_result",
          "data": {
            "text/plain": [
              "                   GITTER_ID_100m  x_mp_100m  y_mp_100m  \\\n",
              "0  CRS3035RES100mN2689100E4337000    4337050    2689150   \n",
              "1  CRS3035RES100mN2689100E4341100    4341150    2689150   \n",
              "2  CRS3035RES100mN2690800E4341200    4341250    2690850   \n",
              "3  CRS3035RES100mN2691200E4341200    4341250    2691250   \n",
              "4  CRS3035RES100mN2691300E4341200    4341250    2691350   \n",
              "5  CRS3035RES100mN2691700E4341100    4341150    2691750   \n",
              "6  CRS3035RES100mN2691900E4340800    4340850    2691950   \n",
              "7  CRS3035RES100mN2692400E4341200    4341250    2692450   \n",
              "8  CRS3035RES100mN2692600E4341000    4341050    2692650   \n",
              "9  CRS3035RES100mN2692600E4344000    4344050    2692650   \n",
              "\n",
              "   Insgesamt_Bevoelkerung  Unter10  Anteil_unter10  \n",
              "0                       4        0             0.0  \n",
              "1                      11        0             0.0  \n",
              "2                       4        0             0.0  \n",
              "3                      12        0             0.0  \n",
              "4                       3        0             0.0  \n",
              "5                       8        0             0.0  \n",
              "6                       3        0             0.0  \n",
              "7                       5        0             0.0  \n",
              "8                       9        0             0.0  \n",
              "9                      12        0             0.0  "
            ],
            "text/html": [
              "\n",
              "  <div id=\"df-bc6bbd6d-26cb-4ef0-839c-b2de67bae35f\" class=\"colab-df-container\">\n",
              "    <div>\n",
              "<style scoped>\n",
              "    .dataframe tbody tr th:only-of-type {\n",
              "        vertical-align: middle;\n",
              "    }\n",
              "\n",
              "    .dataframe tbody tr th {\n",
              "        vertical-align: top;\n",
              "    }\n",
              "\n",
              "    .dataframe thead th {\n",
              "        text-align: right;\n",
              "    }\n",
              "</style>\n",
              "<table border=\"1\" class=\"dataframe\">\n",
              "  <thead>\n",
              "    <tr style=\"text-align: right;\">\n",
              "      <th></th>\n",
              "      <th>GITTER_ID_100m</th>\n",
              "      <th>x_mp_100m</th>\n",
              "      <th>y_mp_100m</th>\n",
              "      <th>Insgesamt_Bevoelkerung</th>\n",
              "      <th>Unter10</th>\n",
              "      <th>Anteil_unter10</th>\n",
              "    </tr>\n",
              "  </thead>\n",
              "  <tbody>\n",
              "    <tr>\n",
              "      <th>0</th>\n",
              "      <td>CRS3035RES100mN2689100E4337000</td>\n",
              "      <td>4337050</td>\n",
              "      <td>2689150</td>\n",
              "      <td>4</td>\n",
              "      <td>0</td>\n",
              "      <td>0.0</td>\n",
              "    </tr>\n",
              "    <tr>\n",
              "      <th>1</th>\n",
              "      <td>CRS3035RES100mN2689100E4341100</td>\n",
              "      <td>4341150</td>\n",
              "      <td>2689150</td>\n",
              "      <td>11</td>\n",
              "      <td>0</td>\n",
              "      <td>0.0</td>\n",
              "    </tr>\n",
              "    <tr>\n",
              "      <th>2</th>\n",
              "      <td>CRS3035RES100mN2690800E4341200</td>\n",
              "      <td>4341250</td>\n",
              "      <td>2690850</td>\n",
              "      <td>4</td>\n",
              "      <td>0</td>\n",
              "      <td>0.0</td>\n",
              "    </tr>\n",
              "    <tr>\n",
              "      <th>3</th>\n",
              "      <td>CRS3035RES100mN2691200E4341200</td>\n",
              "      <td>4341250</td>\n",
              "      <td>2691250</td>\n",
              "      <td>12</td>\n",
              "      <td>0</td>\n",
              "      <td>0.0</td>\n",
              "    </tr>\n",
              "    <tr>\n",
              "      <th>4</th>\n",
              "      <td>CRS3035RES100mN2691300E4341200</td>\n",
              "      <td>4341250</td>\n",
              "      <td>2691350</td>\n",
              "      <td>3</td>\n",
              "      <td>0</td>\n",
              "      <td>0.0</td>\n",
              "    </tr>\n",
              "    <tr>\n",
              "      <th>5</th>\n",
              "      <td>CRS3035RES100mN2691700E4341100</td>\n",
              "      <td>4341150</td>\n",
              "      <td>2691750</td>\n",
              "      <td>8</td>\n",
              "      <td>0</td>\n",
              "      <td>0.0</td>\n",
              "    </tr>\n",
              "    <tr>\n",
              "      <th>6</th>\n",
              "      <td>CRS3035RES100mN2691900E4340800</td>\n",
              "      <td>4340850</td>\n",
              "      <td>2691950</td>\n",
              "      <td>3</td>\n",
              "      <td>0</td>\n",
              "      <td>0.0</td>\n",
              "    </tr>\n",
              "    <tr>\n",
              "      <th>7</th>\n",
              "      <td>CRS3035RES100mN2692400E4341200</td>\n",
              "      <td>4341250</td>\n",
              "      <td>2692450</td>\n",
              "      <td>5</td>\n",
              "      <td>0</td>\n",
              "      <td>0.0</td>\n",
              "    </tr>\n",
              "    <tr>\n",
              "      <th>8</th>\n",
              "      <td>CRS3035RES100mN2692600E4341000</td>\n",
              "      <td>4341050</td>\n",
              "      <td>2692650</td>\n",
              "      <td>9</td>\n",
              "      <td>0</td>\n",
              "      <td>0.0</td>\n",
              "    </tr>\n",
              "    <tr>\n",
              "      <th>9</th>\n",
              "      <td>CRS3035RES100mN2692600E4344000</td>\n",
              "      <td>4344050</td>\n",
              "      <td>2692650</td>\n",
              "      <td>12</td>\n",
              "      <td>0</td>\n",
              "      <td>0.0</td>\n",
              "    </tr>\n",
              "  </tbody>\n",
              "</table>\n",
              "</div>\n",
              "    <div class=\"colab-df-buttons\">\n",
              "\n",
              "  <div class=\"colab-df-container\">\n",
              "    <button class=\"colab-df-convert\" onclick=\"convertToInteractive('df-bc6bbd6d-26cb-4ef0-839c-b2de67bae35f')\"\n",
              "            title=\"Convert this dataframe to an interactive table.\"\n",
              "            style=\"display:none;\">\n",
              "\n",
              "  <svg xmlns=\"http://www.w3.org/2000/svg\" height=\"24px\" viewBox=\"0 -960 960 960\">\n",
              "    <path d=\"M120-120v-720h720v720H120Zm60-500h600v-160H180v160Zm220 220h160v-160H400v160Zm0 220h160v-160H400v160ZM180-400h160v-160H180v160Zm440 0h160v-160H620v160ZM180-180h160v-160H180v160Zm440 0h160v-160H620v160Z\"/>\n",
              "  </svg>\n",
              "    </button>\n",
              "\n",
              "  <style>\n",
              "    .colab-df-container {\n",
              "      display:flex;\n",
              "      gap: 12px;\n",
              "    }\n",
              "\n",
              "    .colab-df-convert {\n",
              "      background-color: #E8F0FE;\n",
              "      border: none;\n",
              "      border-radius: 50%;\n",
              "      cursor: pointer;\n",
              "      display: none;\n",
              "      fill: #1967D2;\n",
              "      height: 32px;\n",
              "      padding: 0 0 0 0;\n",
              "      width: 32px;\n",
              "    }\n",
              "\n",
              "    .colab-df-convert:hover {\n",
              "      background-color: #E2EBFA;\n",
              "      box-shadow: 0px 1px 2px rgba(60, 64, 67, 0.3), 0px 1px 3px 1px rgba(60, 64, 67, 0.15);\n",
              "      fill: #174EA6;\n",
              "    }\n",
              "\n",
              "    .colab-df-buttons div {\n",
              "      margin-bottom: 4px;\n",
              "    }\n",
              "\n",
              "    [theme=dark] .colab-df-convert {\n",
              "      background-color: #3B4455;\n",
              "      fill: #D2E3FC;\n",
              "    }\n",
              "\n",
              "    [theme=dark] .colab-df-convert:hover {\n",
              "      background-color: #434B5C;\n",
              "      box-shadow: 0px 1px 3px 1px rgba(0, 0, 0, 0.15);\n",
              "      filter: drop-shadow(0px 1px 2px rgba(0, 0, 0, 0.3));\n",
              "      fill: #FFFFFF;\n",
              "    }\n",
              "  </style>\n",
              "\n",
              "    <script>\n",
              "      const buttonEl =\n",
              "        document.querySelector('#df-bc6bbd6d-26cb-4ef0-839c-b2de67bae35f button.colab-df-convert');\n",
              "      buttonEl.style.display =\n",
              "        google.colab.kernel.accessAllowed ? 'block' : 'none';\n",
              "\n",
              "      async function convertToInteractive(key) {\n",
              "        const element = document.querySelector('#df-bc6bbd6d-26cb-4ef0-839c-b2de67bae35f');\n",
              "        const dataTable =\n",
              "          await google.colab.kernel.invokeFunction('convertToInteractive',\n",
              "                                                    [key], {});\n",
              "        if (!dataTable) return;\n",
              "\n",
              "        const docLinkHtml = 'Like what you see? Visit the ' +\n",
              "          '<a target=\"_blank\" href=https://colab.research.google.com/notebooks/data_table.ipynb>data table notebook</a>'\n",
              "          + ' to learn more about interactive tables.';\n",
              "        element.innerHTML = '';\n",
              "        dataTable['output_type'] = 'display_data';\n",
              "        await google.colab.output.renderOutput(dataTable, element);\n",
              "        const docLink = document.createElement('div');\n",
              "        docLink.innerHTML = docLinkHtml;\n",
              "        element.appendChild(docLink);\n",
              "      }\n",
              "    </script>\n",
              "  </div>\n",
              "\n",
              "\n",
              "<div id=\"df-22e27d42-03c1-40c8-968f-280b3dd625ea\">\n",
              "  <button class=\"colab-df-quickchart\" onclick=\"quickchart('df-22e27d42-03c1-40c8-968f-280b3dd625ea')\"\n",
              "            title=\"Suggest charts\"\n",
              "            style=\"display:none;\">\n",
              "\n",
              "<svg xmlns=\"http://www.w3.org/2000/svg\" height=\"24px\"viewBox=\"0 0 24 24\"\n",
              "     width=\"24px\">\n",
              "    <g>\n",
              "        <path d=\"M19 3H5c-1.1 0-2 .9-2 2v14c0 1.1.9 2 2 2h14c1.1 0 2-.9 2-2V5c0-1.1-.9-2-2-2zM9 17H7v-7h2v7zm4 0h-2V7h2v10zm4 0h-2v-4h2v4z\"/>\n",
              "    </g>\n",
              "</svg>\n",
              "  </button>\n",
              "\n",
              "<style>\n",
              "  .colab-df-quickchart {\n",
              "      --bg-color: #E8F0FE;\n",
              "      --fill-color: #1967D2;\n",
              "      --hover-bg-color: #E2EBFA;\n",
              "      --hover-fill-color: #174EA6;\n",
              "      --disabled-fill-color: #AAA;\n",
              "      --disabled-bg-color: #DDD;\n",
              "  }\n",
              "\n",
              "  [theme=dark] .colab-df-quickchart {\n",
              "      --bg-color: #3B4455;\n",
              "      --fill-color: #D2E3FC;\n",
              "      --hover-bg-color: #434B5C;\n",
              "      --hover-fill-color: #FFFFFF;\n",
              "      --disabled-bg-color: #3B4455;\n",
              "      --disabled-fill-color: #666;\n",
              "  }\n",
              "\n",
              "  .colab-df-quickchart {\n",
              "    background-color: var(--bg-color);\n",
              "    border: none;\n",
              "    border-radius: 50%;\n",
              "    cursor: pointer;\n",
              "    display: none;\n",
              "    fill: var(--fill-color);\n",
              "    height: 32px;\n",
              "    padding: 0;\n",
              "    width: 32px;\n",
              "  }\n",
              "\n",
              "  .colab-df-quickchart:hover {\n",
              "    background-color: var(--hover-bg-color);\n",
              "    box-shadow: 0 1px 2px rgba(60, 64, 67, 0.3), 0 1px 3px 1px rgba(60, 64, 67, 0.15);\n",
              "    fill: var(--button-hover-fill-color);\n",
              "  }\n",
              "\n",
              "  .colab-df-quickchart-complete:disabled,\n",
              "  .colab-df-quickchart-complete:disabled:hover {\n",
              "    background-color: var(--disabled-bg-color);\n",
              "    fill: var(--disabled-fill-color);\n",
              "    box-shadow: none;\n",
              "  }\n",
              "\n",
              "  .colab-df-spinner {\n",
              "    border: 2px solid var(--fill-color);\n",
              "    border-color: transparent;\n",
              "    border-bottom-color: var(--fill-color);\n",
              "    animation:\n",
              "      spin 1s steps(1) infinite;\n",
              "  }\n",
              "\n",
              "  @keyframes spin {\n",
              "    0% {\n",
              "      border-color: transparent;\n",
              "      border-bottom-color: var(--fill-color);\n",
              "      border-left-color: var(--fill-color);\n",
              "    }\n",
              "    20% {\n",
              "      border-color: transparent;\n",
              "      border-left-color: var(--fill-color);\n",
              "      border-top-color: var(--fill-color);\n",
              "    }\n",
              "    30% {\n",
              "      border-color: transparent;\n",
              "      border-left-color: var(--fill-color);\n",
              "      border-top-color: var(--fill-color);\n",
              "      border-right-color: var(--fill-color);\n",
              "    }\n",
              "    40% {\n",
              "      border-color: transparent;\n",
              "      border-right-color: var(--fill-color);\n",
              "      border-top-color: var(--fill-color);\n",
              "    }\n",
              "    60% {\n",
              "      border-color: transparent;\n",
              "      border-right-color: var(--fill-color);\n",
              "    }\n",
              "    80% {\n",
              "      border-color: transparent;\n",
              "      border-right-color: var(--fill-color);\n",
              "      border-bottom-color: var(--fill-color);\n",
              "    }\n",
              "    90% {\n",
              "      border-color: transparent;\n",
              "      border-bottom-color: var(--fill-color);\n",
              "    }\n",
              "  }\n",
              "</style>\n",
              "\n",
              "  <script>\n",
              "    async function quickchart(key) {\n",
              "      const quickchartButtonEl =\n",
              "        document.querySelector('#' + key + ' button');\n",
              "      quickchartButtonEl.disabled = true;  // To prevent multiple clicks.\n",
              "      quickchartButtonEl.classList.add('colab-df-spinner');\n",
              "      try {\n",
              "        const charts = await google.colab.kernel.invokeFunction(\n",
              "            'suggestCharts', [key], {});\n",
              "      } catch (error) {\n",
              "        console.error('Error during call to suggestCharts:', error);\n",
              "      }\n",
              "      quickchartButtonEl.classList.remove('colab-df-spinner');\n",
              "      quickchartButtonEl.classList.add('colab-df-quickchart-complete');\n",
              "    }\n",
              "    (() => {\n",
              "      let quickchartButtonEl =\n",
              "        document.querySelector('#df-22e27d42-03c1-40c8-968f-280b3dd625ea button');\n",
              "      quickchartButtonEl.style.display =\n",
              "        google.colab.kernel.accessAllowed ? 'block' : 'none';\n",
              "    })();\n",
              "  </script>\n",
              "</div>\n",
              "\n",
              "    </div>\n",
              "  </div>\n"
            ],
            "application/vnd.google.colaboratory.intrinsic+json": {
              "type": "dataframe",
              "variable_name": "gitter_df"
            }
          },
          "metadata": {},
          "execution_count": 33
        }
      ]
    },
    {
      "cell_type": "code",
      "source": [
        "# Datei speichern in Google Drive\n",
        "gitter_df.to_csv('/content/drive/MyDrive/Daten BA /erstellte Dateien mit colab/Anteil_Unter10_DE.csv', index=False, sep=\";\")\n"
      ],
      "metadata": {
        "id": "lZn4WgWtwEpL"
      },
      "execution_count": null,
      "outputs": []
    },
    {
      "cell_type": "code",
      "source": [
        "csv_path = \"/content/drive/MyDrive/Daten BA /erstellte Dateien mit colab/Anteil_Unter10_DE.csv\"\n",
        "AnteilU10_df = pd.read_csv(csv_path, sep=\";\")\n",
        "\n",
        "print(AnteilU10_df.head)\n"
      ],
      "metadata": {
        "colab": {
          "base_uri": "https://localhost:8080/"
        },
        "id": "a9Ca1lR51xAO",
        "outputId": "1608af19-8072-4404-d652-efdc34423c34"
      },
      "execution_count": null,
      "outputs": [
        {
          "output_type": "stream",
          "name": "stdout",
          "text": [
            "<bound method NDFrame.head of                          GITTER_ID_100m  x_mp_100m  y_mp_100m  \\\n",
            "0        CRS3035RES100mN2689100E4337000    4337050    2689150   \n",
            "1        CRS3035RES100mN2689100E4341100    4341150    2689150   \n",
            "2        CRS3035RES100mN2690800E4341200    4341250    2690850   \n",
            "3        CRS3035RES100mN2691200E4341200    4341250    2691250   \n",
            "4        CRS3035RES100mN2691300E4341200    4341250    2691350   \n",
            "...                                 ...        ...        ...   \n",
            "3088032  CRS3035RES100mN3547500E4220100    4220150    3547550   \n",
            "3088033  CRS3035RES100mN3547600E4219800    4219850    3547650   \n",
            "3088034  CRS3035RES100mN3547600E4219900    4219950    3547650   \n",
            "3088035  CRS3035RES100mN3547600E4220000    4220050    3547650   \n",
            "3088036  CRS3035RES100mN3547600E4220100    4220150    3547650   \n",
            "\n",
            "         Insgesamt_Bevoelkerung  Unter10  Anteil_unter10  \n",
            "0                             4        0             0.0  \n",
            "1                            11        0             0.0  \n",
            "2                             4        0             0.0  \n",
            "3                            12        0             0.0  \n",
            "4                             3        0             0.0  \n",
            "...                         ...      ...             ...  \n",
            "3088032                      14        0             0.0  \n",
            "3088033                       4        0             0.0  \n",
            "3088034                      10        0             0.0  \n",
            "3088035                       3        0             0.0  \n",
            "3088036                       3        0             0.0  \n",
            "\n",
            "[3088037 rows x 6 columns]>\n"
          ]
        }
      ]
    },
    {
      "cell_type": "code",
      "source": [
        "# Beispiel: Hauptdokumente und Merkmalsdateien\n",
        "noerdlingen_path = \"/content/drive/MyDrive/Daten BA /erstellte Dateien mit colab/gitterzellen_noerdlingen_clean.csv\"\n",
        "kempten_path = \"/content/drive/MyDrive/Daten BA /erstellte Dateien mit colab/gitterzellen_kempten_clean.csv\"\n",
        "ingolstadt_path = \"/content/drive/MyDrive/Daten BA /erstellte Dateien mit colab/gitterzellen_Ingolstadt_clean.csv\"\n",
        "\n",
        "# Pfade zu den Merkmalsdateien (z. B. Durchschnittsalter, Einkommen)\n",
        "merkmale_paths = [\n",
        "    \"/content/drive/MyDrive/Daten BA /Zensus_2022-Daten-Excel/Anteil_ab_65-jaehrige_in_Gitterzellen/Zensus2022_Anteil_ueber_65_100m-Gitter.csv\",\n",
        "    \"/content/drive/MyDrive/Daten BA /Zensus_2022-Daten-Excel/Auslaenderanteil_in_Gitterzellen/Zensus2022_Anteil_Auslaender_100m-Gitter.csv\",\n",
        "    \"/content/drive/MyDrive/Daten BA /Zensus_2022-Daten-Excel/Durchschnittliche_Wohnflaeche_je_Bewohner_in_Gitterzellen/Zensus2022_Durchschn_Flaeche_je_Bewohner_100m-Gitter.csv\",\n",
        "    \"/content/drive/MyDrive/Daten BA /Zensus_2022-Daten-Excel/Durchschnittsalter_in_Gitterzellen/Zensus2022_Durchschnittsalter_100m-Gitter.csv\",\n",
        "    \"/content/drive/MyDrive/Daten BA /Zensus_2022-Daten-Excel/Zensus2022_Bevoelkerungszahl/Zensus2022_Bevoelkerungszahl_100m-Gitter.csv\",\n",
        "    \"/content/drive/MyDrive/Daten BA /Zensus_2022-Daten-Excel/Zensus2022_Durchschn_Nettokaltmiete/Zensus2022_Durchschn_Nettokaltmiete_100m-Gitter.csv\",\n",
        "    \"/content/drive/MyDrive/Daten BA /erstellte Dateien mit colab/Anteil_Unter10_DE.csv\"\n",
        "\n",
        "]\n",
        "\n",
        "# Kombinieren für jede Stadt\n",
        "kombiniere_daten(noerdlingen_path, merkmale_paths, \"NOERDLINGEN_neu_merged.csv\", sep=\";\")\n",
        "kombiniere_daten(kempten_path, merkmale_paths, \"KEMPTEN_neu_merged.csv\", sep=\";\")\n",
        "kombiniere_daten(ingolstadt_path, merkmale_paths, \"INGOLSTADT_neu_merged.csv\", sep=\";\")\n"
      ],
      "metadata": {
        "colab": {
          "base_uri": "https://localhost:8080/"
        },
        "id": "AAX6WvTew8No",
        "outputId": "a7174d14-c08b-49e9-9e54-c27ef3bb649d"
      },
      "execution_count": null,
      "outputs": [
        {
          "output_type": "stream",
          "name": "stdout",
          "text": [
            "Kombinierte Datei gespeichert unter: NOERDLINGEN_neu_merged.csv\n",
            "Kombinierte Datei gespeichert unter: KEMPTEN_neu_merged.csv\n",
            "Kombinierte Datei gespeichert unter: INGOLSTADT_neu_merged.csv\n"
          ]
        }
      ]
    },
    {
      "cell_type": "code",
      "source": [
        "import pandas as pd\n",
        "import pandas as pd\n",
        "\n",
        "# CSV-Datei lesen mit expliziter Angabe von Encoding und Datentyp ( encoding='utf-8', dtype={'Spaltenname': str})\n",
        "Noerdlingen_df = pd.read_csv('/content/NOERDLINGEN_neu_merged.csv', sep=';')\n",
        "Kempten_df = pd.read_csv('/content/KEMPTEN_neu_merged.csv', sep=';')\n",
        "Ingolstadt_df = pd.read_csv('/content/INGOLSTADT_neu_merged.csv', sep=';')\n",
        "\n",
        "print(Noerdlingen_df.head(5))\n",
        "print(Kempten_df.head(5))\n",
        "print(Ingolstadt_df.head(5))"
      ],
      "metadata": {
        "colab": {
          "base_uri": "https://localhost:8080/"
        },
        "id": "2TQfujCU1D2T",
        "outputId": "3ece1ad2-02e8-42a8-9060-eeaf9a0c1dc5"
      },
      "execution_count": null,
      "outputs": [
        {
          "output_type": "stream",
          "name": "stdout",
          "text": [
            "                   GITTER_ID_100m  x_mp_100m  y_mp_100m  \\\n",
            "0  CRS3035RES100mN2854400E4359000    4359050    2854450   \n",
            "1  CRS3035RES100mN2854500E4358400    4358450    2854550   \n",
            "2  CRS3035RES100mN2854500E4358700    4358750    2854550   \n",
            "3  CRS3035RES100mN2854500E4358800    4358850    2854550   \n",
            "4  CRS3035RES100mN2854500E4358900    4358950    2854550   \n",
            "\n",
            "                  geometry AnteilUeber65 werterlaeuternde_Zeichen  \\\n",
            "0  POINT (4359050 2854450)             –                      NaN   \n",
            "1  POINT (4358450 2854550)             –                      NaN   \n",
            "2  POINT (4358750 2854550)             –                      NaN   \n",
            "3  POINT (4358850 2854550)         13,64                 KLAMMERN   \n",
            "4  POINT (4358950 2854550)             –                      NaN   \n",
            "\n",
            "  AnteilAuslaender durchschnFlaechejeBew Durchschnittsalter  Einwohner  \\\n",
            "0                –                 65,00              37,13          3   \n",
            "1                –                   NaN              53,48          3   \n",
            "2                –                 39,04              57,78          6   \n",
            "3                –                 78,77              43,04         22   \n",
            "4                –                 48,23              36,65         20   \n",
            "\n",
            "  durchschnMieteQM  Insgesamt_Bevoelkerung  Unter10  Anteil_unter10  \n",
            "0              NaN                       3        0        0.000000  \n",
            "1              NaN                       3        0        0.000000  \n",
            "2              NaN                       6        0        0.000000  \n",
            "3              NaN                      22        3       13.636364  \n",
            "4             4,75                      20        0        0.000000  \n",
            "                   GITTER_ID_100m  x_mp_100m  y_mp_100m  \\\n",
            "0  CRS3035RES100mN2731600E4345000    4345050    2731650   \n",
            "1  CRS3035RES100mN2731700E4344700    4344750    2731750   \n",
            "2  CRS3035RES100mN2731800E4342000    4342050    2731850   \n",
            "3  CRS3035RES100mN2731800E4344600    4344650    2731850   \n",
            "4  CRS3035RES100mN2731800E4344700    4344750    2731850   \n",
            "\n",
            "                  geometry AnteilUeber65 werterlaeuternde_Zeichen  \\\n",
            "0  POINT (4345050 2731650)             –                      NaN   \n",
            "1  POINT (4344750 2731750)         50,00                 KLAMMERN   \n",
            "2  POINT (4342050 2731850)             –                      NaN   \n",
            "3  POINT (4344650 2731850)         14,29                 KLAMMERN   \n",
            "4  POINT (4344750 2731850)         29,73                      NaN   \n",
            "\n",
            "  AnteilAuslaender durchschnFlaechejeBew Durchschnittsalter  Einwohner  \\\n",
            "0                –                   NaN              40,47          5   \n",
            "1                –                   NaN              65,62          8   \n",
            "2                –                   NaN              47,53          3   \n",
            "3                –                 40,65              41,19         21   \n",
            "4                –                 57,96              47,67         37   \n",
            "\n",
            "  durchschnMieteQM  Insgesamt_Bevoelkerung  Unter10  Anteil_unter10  \n",
            "0              NaN                       5        0        0.000000  \n",
            "1              NaN                       8        0        0.000000  \n",
            "2              NaN                       3        0        0.000000  \n",
            "3              NaN                      21        3       14.285714  \n",
            "4             7,99                      37        4       10.810811  \n",
            "                   GITTER_ID_100m  x_mp_100m  y_mp_100m  \\\n",
            "0  CRS3035RES100mN2843300E4424300    4424350    2843350   \n",
            "1  CRS3035RES100mN2843700E4425900    4425950    2843750   \n",
            "2  CRS3035RES100mN2843700E4426000    4426050    2843750   \n",
            "3  CRS3035RES100mN2843800E4423200    4423250    2843850   \n",
            "4  CRS3035RES100mN2843800E4423300    4423350    2843850   \n",
            "\n",
            "                  geometry AnteilUeber65 werterlaeuternde_Zeichen  \\\n",
            "0  POINT (4424350 2843350)             –                      NaN   \n",
            "1  POINT (4425950 2843750)             –                      NaN   \n",
            "2  POINT (4426050 2843750)             –                      NaN   \n",
            "3  POINT (4423250 2843850)         42,86                 KLAMMERN   \n",
            "4  POINT (4423350 2843850)             –                      NaN   \n",
            "\n",
            "  AnteilAuslaender durchschnFlaechejeBew Durchschnittsalter  Einwohner  \\\n",
            "0                –                 62,50              36,53          3   \n",
            "1                –                 98,99              44,98          7   \n",
            "2                –                   NaN              25,14         10   \n",
            "3                –                 50,00              47,00          6   \n",
            "4                –                 61,55              26,85          6   \n",
            "\n",
            "  durchschnMieteQM  Insgesamt_Bevoelkerung  Unter10  Anteil_unter10  \n",
            "0              NaN                       3        0             0.0  \n",
            "1              NaN                       7        0             0.0  \n",
            "2            11,52                      10        4            40.0  \n",
            "3              NaN                       6        0             0.0  \n",
            "4              NaN                       6        3            50.0  \n"
          ]
        }
      ]
    },
    {
      "cell_type": "code",
      "source": [
        "Noerdlingen_df = Noerdlingen_df.drop(columns=[\"werterlaeuternde_Zeichen\"])\n",
        "Kempten_df = Kempten_df.drop(columns=[\"werterlaeuternde_Zeichen\"])\n",
        "Ingolstadt_df = Ingolstadt_df.drop(columns=[\"werterlaeuternde_Zeichen\"])\n",
        "\n",
        "print(Noerdlingen_df.head(5))\n",
        "print(Kempten_df.head(5))\n",
        "print(Ingolstadt_df.head(5))"
      ],
      "metadata": {
        "colab": {
          "base_uri": "https://localhost:8080/"
        },
        "collapsed": true,
        "id": "fxfkco5ACoHq",
        "outputId": "622b016c-a6b2-4d9d-d9cd-5c34cfb31f58"
      },
      "execution_count": null,
      "outputs": [
        {
          "output_type": "stream",
          "name": "stdout",
          "text": [
            "                   GITTER_ID_100m  x_mp_100m  y_mp_100m  \\\n",
            "0  CRS3035RES100mN2854400E4359000    4359050    2854450   \n",
            "1  CRS3035RES100mN2854500E4358400    4358450    2854550   \n",
            "2  CRS3035RES100mN2854500E4358700    4358750    2854550   \n",
            "3  CRS3035RES100mN2854500E4358800    4358850    2854550   \n",
            "4  CRS3035RES100mN2854500E4358900    4358950    2854550   \n",
            "\n",
            "                  geometry AnteilUeber65 AnteilAuslaender  \\\n",
            "0  POINT (4359050 2854450)             –                –   \n",
            "1  POINT (4358450 2854550)             –                –   \n",
            "2  POINT (4358750 2854550)             –                –   \n",
            "3  POINT (4358850 2854550)         13,64                –   \n",
            "4  POINT (4358950 2854550)             –                –   \n",
            "\n",
            "  durchschnFlaechejeBew Durchschnittsalter  Einwohner durchschnMieteQM  \\\n",
            "0                 65,00              37,13          3              NaN   \n",
            "1                   NaN              53,48          3              NaN   \n",
            "2                 39,04              57,78          6              NaN   \n",
            "3                 78,77              43,04         22              NaN   \n",
            "4                 48,23              36,65         20             4,75   \n",
            "\n",
            "   Insgesamt_Bevoelkerung  Unter10  Anteil_unter10  \n",
            "0                       3        0        0.000000  \n",
            "1                       3        0        0.000000  \n",
            "2                       6        0        0.000000  \n",
            "3                      22        3       13.636364  \n",
            "4                      20        0        0.000000  \n",
            "                   GITTER_ID_100m  x_mp_100m  y_mp_100m  \\\n",
            "0  CRS3035RES100mN2731600E4345000    4345050    2731650   \n",
            "1  CRS3035RES100mN2731700E4344700    4344750    2731750   \n",
            "2  CRS3035RES100mN2731800E4342000    4342050    2731850   \n",
            "3  CRS3035RES100mN2731800E4344600    4344650    2731850   \n",
            "4  CRS3035RES100mN2731800E4344700    4344750    2731850   \n",
            "\n",
            "                  geometry AnteilUeber65 AnteilAuslaender  \\\n",
            "0  POINT (4345050 2731650)             –                –   \n",
            "1  POINT (4344750 2731750)         50,00                –   \n",
            "2  POINT (4342050 2731850)             –                –   \n",
            "3  POINT (4344650 2731850)         14,29                –   \n",
            "4  POINT (4344750 2731850)         29,73                –   \n",
            "\n",
            "  durchschnFlaechejeBew Durchschnittsalter  Einwohner durchschnMieteQM  \\\n",
            "0                   NaN              40,47          5              NaN   \n",
            "1                   NaN              65,62          8              NaN   \n",
            "2                   NaN              47,53          3              NaN   \n",
            "3                 40,65              41,19         21              NaN   \n",
            "4                 57,96              47,67         37             7,99   \n",
            "\n",
            "   Insgesamt_Bevoelkerung  Unter10  Anteil_unter10  \n",
            "0                       5        0        0.000000  \n",
            "1                       8        0        0.000000  \n",
            "2                       3        0        0.000000  \n",
            "3                      21        3       14.285714  \n",
            "4                      37        4       10.810811  \n",
            "                   GITTER_ID_100m  x_mp_100m  y_mp_100m  \\\n",
            "0  CRS3035RES100mN2843300E4424300    4424350    2843350   \n",
            "1  CRS3035RES100mN2843700E4425900    4425950    2843750   \n",
            "2  CRS3035RES100mN2843700E4426000    4426050    2843750   \n",
            "3  CRS3035RES100mN2843800E4423200    4423250    2843850   \n",
            "4  CRS3035RES100mN2843800E4423300    4423350    2843850   \n",
            "\n",
            "                  geometry AnteilUeber65 AnteilAuslaender  \\\n",
            "0  POINT (4424350 2843350)             –                –   \n",
            "1  POINT (4425950 2843750)             –                –   \n",
            "2  POINT (4426050 2843750)             –                –   \n",
            "3  POINT (4423250 2843850)         42,86                –   \n",
            "4  POINT (4423350 2843850)             –                –   \n",
            "\n",
            "  durchschnFlaechejeBew Durchschnittsalter  Einwohner durchschnMieteQM  \\\n",
            "0                 62,50              36,53          3              NaN   \n",
            "1                 98,99              44,98          7              NaN   \n",
            "2                   NaN              25,14         10            11,52   \n",
            "3                 50,00              47,00          6              NaN   \n",
            "4                 61,55              26,85          6              NaN   \n",
            "\n",
            "   Insgesamt_Bevoelkerung  Unter10  Anteil_unter10  \n",
            "0                       3        0             0.0  \n",
            "1                       7        0             0.0  \n",
            "2                      10        4            40.0  \n",
            "3                       6        0             0.0  \n",
            "4                       6        3            50.0  \n"
          ]
        }
      ]
    },
    {
      "cell_type": "code",
      "source": [
        "Noerdlingen_df.to_csv('/content/drive/MyDrive/Daten BA /erstellte Dateien mit colab/NOERDLINGEN_neu_merged.csv', index=False, sep=\";\")\n",
        "Kempten_df.to_csv('/content/drive/MyDrive/Daten BA /erstellte Dateien mit colab/KEMPTEN_neu_merged.csv', index=False, sep=\";\")\n",
        "Ingolstadt_df.to_csv('/content/drive/MyDrive/Daten BA /erstellte Dateien mit colab/INGOLSTADT_neu_merged.csv', index=False, sep=\";\")"
      ],
      "metadata": {
        "id": "Tf3yOamUKpDc"
      },
      "execution_count": null,
      "outputs": []
    },
    {
      "cell_type": "markdown",
      "source": [
        "Tabellen jetzt final in Drive gespeichert unter NOERDLINGEN_neu_merged.csv,..."
      ],
      "metadata": {
        "id": "ikYoy5frLaZE"
      }
    }
  ]
}